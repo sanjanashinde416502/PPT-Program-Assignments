{
 "cells": [
  {
   "cell_type": "markdown",
   "id": "02847f25-0c32-42e0-8032-339e283fe460",
   "metadata": {},
   "source": [
    "Q.1 Given an integer array nums of 2n integers, group these integers into\n",
    "n pairs (a1, b1), (a2, b2),..., (an, bn) such that the sum of min(ai, bi) for\n",
    "all i is maximized. Return the maximized sum.<br>.\n",
    "Example 1:<br>\n",
    "Input: nums = [1,4,3,2]<br>\n",
    "Output: 4<br>\n",
    "Explanation: All possible pairings (ignoring the ordering of elements)\n",
    "are:<br>\n",
    "1. (1, 4), (2, 3) -> min(1, 4) + min(2, 3) = 1 + 2 = 3<br>\n",
    "2. (1, 3), (2, 4) -> min(1, 3) + min(2, 4) = 1 + 2 = 3<br>\n",
    "3. (1, 2), (3, 4) -> min(1, 2) + min(3, 4) = 1 + 3 = 4<br>\n",
    "So the maximum possible sum is 4<br>"
   ]
  },
  {
   "cell_type": "code",
   "execution_count": 6,
   "id": "eacbff17-4c58-4a1c-bc59-41f47e25ab9d",
   "metadata": {},
   "outputs": [
    {
     "name": "stdout",
     "output_type": "stream",
     "text": [
      "The maximum possible sum is 4\n"
     ]
    }
   ],
   "source": [
    "class solution:\n",
    "    def integerPairs(nums):\n",
    "        nums.sort()\n",
    "        max_sum=0\n",
    "        for i in range(0,len(nums),2):\n",
    "            max_sum+=nums[i]\n",
    "        return max_sum\n",
    "nums=[1,4,3,2]\n",
    "obj=solution\n",
    "result=obj.integerPairs(nums)\n",
    "print(\"The maximum possible sum is\",result)"
   ]
  },
  {
   "cell_type": "markdown",
   "id": "40c5d945-63f1-416c-9d55-400f414bdce4",
   "metadata": {},
   "source": [
    "Q.2 Alice has n candies, where the ith candy is of type candyType[i]. Alice\n",
    "noticed that she started to gain weight, so she visited a doctor. \n",
    "The doctor advised Alice to only eat n / 2 of the candies she has (n is\n",
    "always even). Alice likes her candies very much, and she wants to eat\n",
    "the maximum number of different types of candies while still\n",
    "following the doctor's advice. <br>\n",
    "Given the integer array candyType of length n, return the maximum\n",
    "number of different types of candies she can eat if she only eats n / 2\n",
    "of them.<br>\n",
    "Example 1:<br>\n",
    "Input: candyType = [1,1,2,2,3,3]<br>\n",
    "Output: 3<br>\n",
    "Explanation: Alice can only eat 6 / 2 = 3 candies. Since there are only\n",
    "3 types, she can eat one of each type."
   ]
  },
  {
   "cell_type": "code",
   "execution_count": 7,
   "id": "76d99d22-b7b7-46f7-b38f-e6ded6517cd8",
   "metadata": {},
   "outputs": [
    {
     "name": "stdout",
     "output_type": "stream",
     "text": [
      "Maximum Candies Alice can it are: 3\n"
     ]
    }
   ],
   "source": [
    "def unique_Candy(nums):\n",
    "    unique_candy=set(nums)\n",
    "    max_candy=min(len(unique_candy),len(nums)//2)\n",
    "    return max_candy\n",
    "nums=[1,1,2,2,3,3]\n",
    "s=unique_Candy(nums)\n",
    "print(\"Maximum Candies Alice can it are:\",unique_Candy(nums))"
   ]
  },
  {
   "cell_type": "markdown",
   "id": "61bf8c70-3d57-4df3-93cf-1cf36f04afc5",
   "metadata": {},
   "source": [
    "Q.3 We define a harmonious array as an array where the difference\n",
    "between its maximum value\n",
    "and its minimum value is exactly 1.\n",
    "Given an integer array nums, return the length of its longest\n",
    "harmonious subsequence\n",
    "among all its possible subsequences.<br>\n",
    "A subsequence of an array is a sequence that can be derived from\n",
    "the array by deleting some or no elements without changing the\n",
    "order of the remaining elements.<br>\n",
    "Example 1:<br>\n",
    "Input: nums = [1,3,2,2,5,2,3,7]<br>\n",
    "Output: 5<br>\n",
    "Explanation: The longest harmonious subsequence is [3,2,2,2,3]."
   ]
  },
  {
   "cell_type": "code",
   "execution_count": 8,
   "id": "5c4fb549-e345-4d24-8ddd-e79d138ea142",
   "metadata": {},
   "outputs": [
    {
     "name": "stdout",
     "output_type": "stream",
     "text": [
      "Output: 5\n"
     ]
    }
   ],
   "source": [
    "# Ans:\n",
    "def longHarmonies(nums):\n",
    "    count={}\n",
    "    for i in nums:\n",
    "        count[i]=count.get(i,0)+1\n",
    "        \n",
    "    maxlen=0\n",
    "    for i in count:\n",
    "        if i+1 in count:\n",
    "            maxlen=max(maxlen,count[i]+count[i+1])\n",
    "    return maxlen\n",
    "nums=[1,3,2,2,5,2,3,7]\n",
    "s=longHarmonies(nums)\n",
    "print(\"Output:\",s)"
   ]
  },
  {
   "cell_type": "markdown",
   "id": "12756faf-f9a7-42a5-9770-ab6b5941d085",
   "metadata": {},
   "source": [
    "Q.4 You have a long flowerbed in which some of the plots are planted,\n",
    "and some are not.<br>\n",
    "However, flowers cannot be planted in adjacent plots.\n",
    "Given an integer array flowerbed containing 0's and 1's, where 0\n",
    "means empty and 1 means not empty, and an integer n, return true if\n",
    "n new flowers can be planted in the flowerbed without violating the\n",
    "no-adjacent-flowers rule and false otherwise.<br>\n",
    "Example 1:<br>\n",
    "Input: flowerbed = [1,0,0,0,1], n = 1<br>\n",
    "Output: true<br>"
   ]
  },
  {
   "cell_type": "code",
   "execution_count": 9,
   "id": "6f8db341-dee0-41ad-be2c-bc12abc18a92",
   "metadata": {},
   "outputs": [
    {
     "name": "stdout",
     "output_type": "stream",
     "text": [
      "Output: True\n"
     ]
    }
   ],
   "source": [
    "def canFlowersPlant(flowerbed,n):\n",
    "    length=len(flowerbed)\n",
    "    count=0\n",
    "    i=0\n",
    "    while i<length:\n",
    "        if flowerbed[i] == 0 and (i == 0 or flowerbed[i - 1] == 0) and (i == length - 1 or flowerbed[i + 1] == 0):\n",
    "            flowerbed[i]=1\n",
    "            count+=1\n",
    "        \n",
    "        if count==n:\n",
    "            return True\n",
    "        i+=1\n",
    "            \n",
    "    return False \n",
    "        \n",
    "flowerbed=[1,0,0,0,1]\n",
    "s=canFlowersPlant(flowerbed,1)\n",
    "print(\"Output:\",s)"
   ]
  },
  {
   "cell_type": "markdown",
   "id": "de79a305-3685-4a8c-8bd4-dd8a8720e4e7",
   "metadata": {},
   "source": [
    "Q.5 Given an integer array nums, find three numbers whose product is\n",
    "maximum and return the maximum product.<br>\n",
    "Example 1:<br>\n",
    "Input: nums = [1,2,3]<br>\n",
    "Output: 6"
   ]
  },
  {
   "cell_type": "code",
   "execution_count": 10,
   "id": "6790bcc8-cd0a-4045-b1e1-b2c35feef547",
   "metadata": {},
   "outputs": [
    {
     "name": "stdout",
     "output_type": "stream",
     "text": [
      "Maximum Product: 6\n"
     ]
    }
   ],
   "source": [
    "def maxProduct(nums):\n",
    "    nums.sort()\n",
    "    n=len(nums)\n",
    "    product1=nums[0]*nums[1]*nums[2]\n",
    "    product2=nums[-1]*nums[-2]*nums[-3]\n",
    "    return max(product1,product2)\n",
    "nums=[1,2,3]\n",
    "product=maxProduct(nums)\n",
    "print(\"Maximum Product:\",product)"
   ]
  },
  {
   "cell_type": "markdown",
   "id": "580529ee-d004-410c-9b23-bf241cc0e194",
   "metadata": {},
   "source": [
    "Q.6 Given an array of integers nums which is sorted in ascending order,\n",
    "and an integer target,\n",
    "write a function to search target in nums. If target exists, then return\n",
    "its index. Otherwise,\n",
    "return -1.<br>\n",
    "You must write an algorithm with O(log n) runtime complexity.<br>\n",
    "Input: nums = [-1,0,3,5,9,12], target = 9<br>\n",
    "Output: 4<br>\n",
    "Explanation: 9 exists in nums and its index is 4"
   ]
  },
  {
   "cell_type": "code",
   "execution_count": 11,
   "id": "47c20a71-6ae2-4da1-8f77-c8898dd2553c",
   "metadata": {},
   "outputs": [
    {
     "name": "stdout",
     "output_type": "stream",
     "text": [
      "The index of target is: 4\n"
     ]
    }
   ],
   "source": [
    "def searchTarget(nums,target):\n",
    "    \n",
    "    start=0\n",
    "    end=len(nums)-1 \n",
    "    while start<=end:\n",
    "        mid=start+(end-start)//2\n",
    "        if nums[mid]==target:\n",
    "            return mid\n",
    "        elif nums[mid]>target:\n",
    "            end=mid-1\n",
    "        else:\n",
    "            start=mid+1\n",
    "    \n",
    "    return -1\n",
    "nums= [-1,0,3,5,9,12]\n",
    "target = 9\n",
    "s=searchTarget(nums,target)\n",
    "print(\"The index of target is:\",searchTarget(nums,target))"
   ]
  },
  {
   "cell_type": "markdown",
   "id": "48a5c800-1741-451b-9613-c63e6fd5e323",
   "metadata": {},
   "source": [
    "Q.7 An array is monotonic if it is either monotone increasing or\n",
    "monotone decreasing.\n",
    "An array nums is monotone increasing if for all i <= j, nums[i] <=\n",
    "nums[j]. An array nums is\n",
    "monotone decreasing if for all i <= j, nums[i] >= nums[j].\n",
    "Given an integer array nums, return true if the given array is\n",
    "monotonic, or false otherwise.<br>\n",
    "Example 1:<br>\n",
    "Input: nums = [1,2,2,3]<br>\n",
    "Output: true"
   ]
  },
  {
   "cell_type": "code",
   "execution_count": 12,
   "id": "65920313-4b27-47d6-83ba-508be60abc59",
   "metadata": {},
   "outputs": [
    {
     "name": "stdout",
     "output_type": "stream",
     "text": [
      "True\n"
     ]
    }
   ],
   "source": [
    "def cheakMonotonic(nums):\n",
    "    isIncressing=True\n",
    "    isDecreasing=False\n",
    "    for i in range(1,len(nums)):\n",
    "        if nums[i]>nums[i-1]:\n",
    "            isDecreasing=False\n",
    "            \n",
    "        if nums[i]<nums[i-1]:\n",
    "            \n",
    "            isIncressing=False\n",
    "    return True\n",
    "nums=[1,2,2,3]\n",
    "print(cheakMonotonic(nums))"
   ]
  },
  {
   "cell_type": "markdown",
   "id": "890bf7ad-3839-4d41-a88b-c707bd3fa343",
   "metadata": {},
   "source": [
    "Q.8 You are given an integer array nums and an integer k.\n",
    "In one operation, you can choose any index i where 0 <= i <\n",
    "nums.length and change nums[i] to nums[i] + x where x is an integer\n",
    "from the range [-k, k]. You can apply this operation at most once for\n",
    "each index i.<br>\n",
    "The score of nums is the difference between the maximum and\n",
    "minimum elements in nums.<br>\n",
    "Return the minimum score of nums after applying the mentioned\n",
    "operation at most once for each index in it.<br>\n",
    "Example 1:<br>\n",
    "Input: nums = [1], k = 0<br>\n",
    "Output: 0"
   ]
  },
  {
   "cell_type": "code",
   "execution_count": 13,
   "id": "5d112ae7-8279-4281-b16b-da92fdaeb5b4",
   "metadata": {},
   "outputs": [
    {
     "name": "stdout",
     "output_type": "stream",
     "text": [
      "The minimum score of nums 0\n"
     ]
    }
   ],
   "source": [
    "def minimumScore(nums, k):\n",
    "    minNum = float('inf')\n",
    "    maxNum = float('-inf')\n",
    "\n",
    "    for num in nums:\n",
    "        minNum = min(minNum, num)\n",
    "        maxNum = max(maxNum, num)\n",
    "\n",
    "    if maxNum - minNum <= 2 * k:\n",
    "        return maxNum - minNum\n",
    "\n",
    "    possibleMin1 = minNum + k\n",
    "    possibleMax1 = maxNum + k\n",
    "    possibleMin2 = minNum - k\n",
    "    possibleMax2 = maxNum - k\n",
    "\n",
    "    return min(possibleMax1 - possibleMin1, possibleMax2 - possibleMin2)\n",
    "nums = [1]\n",
    "k = 0\n",
    "print(\"The minimum score of nums\",minimumScore(nums, k))"
   ]
  },
  {
   "cell_type": "code",
   "execution_count": null,
   "id": "24ebd536-6373-496e-9344-045cbabef823",
   "metadata": {},
   "outputs": [],
   "source": []
  }
 ],
 "metadata": {
  "kernelspec": {
   "display_name": "Python 3 (ipykernel)",
   "language": "python",
   "name": "python3"
  },
  "language_info": {
   "codemirror_mode": {
    "name": "ipython",
    "version": 3
   },
   "file_extension": ".py",
   "mimetype": "text/x-python",
   "name": "python",
   "nbconvert_exporter": "python",
   "pygments_lexer": "ipython3",
   "version": "3.10.8"
  }
 },
 "nbformat": 4,
 "nbformat_minor": 5
}
