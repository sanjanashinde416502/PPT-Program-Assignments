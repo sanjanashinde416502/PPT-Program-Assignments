{
 "cells": [
  {
   "cell_type": "markdown",
   "id": "9466970c-d0b1-4c62-a22a-c44923ce7335",
   "metadata": {},
   "source": [
    "Q.1  Given an array of integers nums and an integer target, return\n",
    "indices of the two numbers such that they add up to target.\n",
    "You may assume that each input would have exactly one solution,\n",
    "and you may not use the same element twice.\n",
    "You can return the answer in any order.<br>\n",
    "Example:<br>\n",
    "Input: nums = [2,7,11,15], target = 9<br>\n",
    "Output0 [0,1]<br>\n",
    "Explanation: Because nums[0] + nums[1] == 9, we return [0, 1]<br>"
   ]
  },
  {
   "cell_type": "code",
   "execution_count": 23,
   "id": "05afae1b-9805-491c-be95-3e5e6ff62adf",
   "metadata": {},
   "outputs": [
    {
     "name": "stdout",
     "output_type": "stream",
     "text": [
      "[0, 1]\n"
     ]
    }
   ],
   "source": [
    "def twosum(nums,target):\n",
    "    num_dict={}\n",
    "    \n",
    "    for i ,num in enumerate(nums):\n",
    "        complement= target-num\n",
    "        if complement in num_dict:\n",
    "            return [num_dict[complement],i]\n",
    "        \n",
    "        num_dict[num]=i\n",
    "        \n",
    "    return \"Doesn't get target value\"\n",
    "nums=[2,7,11,15]\n",
    "target=9\n",
    "print(twosum(nums,target))"
   ]
  },
  {
   "cell_type": "markdown",
   "id": "e8d25943-e6fd-4a7b-850f-04cd5e9a0938",
   "metadata": {},
   "source": [
    "Q.2 Given an integer array nums and an integer val, remove all\n",
    "occurrences of val in nums in-place. The order of the elements may\n",
    "be changed. Then return the number of elements in nums which are\n",
    "not equal to val.\n",
    "Consider the number of elements in nums which are not equal to val\n",
    "be k, to get accepted, you need to do the following things:<br>\n",
    "• Change the array nums such that the first k elements of nums\n",
    "contain the elements which are not equal to val. The remaining\n",
    "elements of nums are not important as well as the size of nums.<br>\n",
    "• Return k.<br>\n",
    "Example :<br>\n",
    "Input: nums = [3,2,2,3], val = 3<br>\n",
    "Output: 2, nums = [2,2,_,_]<br>\n",
    "Explanation: Your function should return k = 2, with the first two\n",
    "elements of nums being 2. It does not matter what you leave beyond\n",
    "the returned k (hence they are underscores)["
   ]
  },
  {
   "cell_type": "code",
   "execution_count": 24,
   "id": "ee99eb12-2fc5-45c9-96f8-c0dc63e81fdc",
   "metadata": {},
   "outputs": [
    {
     "name": "stdout",
     "output_type": "stream",
     "text": [
      "value of k: 2\n",
      "elements in nums which are not equal to val: [3, 3]\n"
     ]
    }
   ],
   "source": [
    "def removeElement(nums,val):\n",
    "    i=0\n",
    "    for j in range(len(nums)):\n",
    "        if (nums[j]!=val):\n",
    "            nums[i]=nums[j]\n",
    "            i+=1\n",
    "    return i\n",
    "nums = [3, 2, 2, 3]\n",
    "val = 2\n",
    "k=removeElement(nums, val)\n",
    "print(\"value of k:\",k)  # Output: 2\n",
    "print(\"elements in nums which are not equal to val:\",nums[:k])  # Output: [2, 2]"
   ]
  },
  {
   "cell_type": "markdown",
   "id": "346d68ca-b56b-41b6-a076-47c92623663f",
   "metadata": {},
   "source": [
    "Q 3. Given a sorted array of distinct integers and a target value, return\n",
    "the index if the target is found. If not, return the index where it would\n",
    "be if it were inserted in order.<br>\n",
    "You must write an algorithm with O(log n) runtime complexity.<br>\n",
    "Example 1:<br>\n",
    "Input: nums = [1,3,5,6], target = 5<br>\n",
    "Output: 2<br>"
   ]
  },
  {
   "cell_type": "code",
   "execution_count": 25,
   "id": "c92e90db-e596-4e44-8efc-7b6b54942e36",
   "metadata": {},
   "outputs": [
    {
     "name": "stdout",
     "output_type": "stream",
     "text": [
      "The index if the target is: 2\n"
     ]
    }
   ],
   "source": [
    "def targetValue(nums,target):\n",
    "    left=0\n",
    "    right=len(nums)-1\n",
    "    while left<=right:\n",
    "        mid=(left+right)//2        # calculating mid by dividing by 2\n",
    "        if nums[mid]==target:\n",
    "            return mid\n",
    "        elif nums[mid]>target:\n",
    "            right=mid-1\n",
    "        else:\n",
    "            left=mid+1\n",
    "    return -1\n",
    "\n",
    "nums=[1,3,5,6]\n",
    "target=5\n",
    "k=targetValue(nums,target)\n",
    "print(\"The index if the target is:\",k)\n",
    "            \n",
    "    \n",
    "    "
   ]
  },
  {
   "cell_type": "markdown",
   "id": "b4c6a0c0-67b9-4ba1-891f-63e577c16477",
   "metadata": {},
   "source": [
    "Q 4. You are given a large integer represented as an integer array\n",
    "digits, where each digits[i] is the ith digit of the integer. The digits are\n",
    "ordered from most significant to least significant in left-to-right\n",
    "order. The large integer does not contain any leading 0's.\n",
    "Increment the large integer by one and return the resulting array of\n",
    "digits.<br>\n",
    "Example 1:<br>\n",
    "Input: digits = [1,2,3]<br>\n",
    "Output: [1,2,4]<br>\n",
    "Explanation: The array represents the integer 123.<br>\n",
    "Incrementing by one gives 123 + 1 = 124.<br>\n",
    "Thus, the result should be [1,2,4]<br>"
   ]
  },
  {
   "cell_type": "code",
   "execution_count": 26,
   "id": "a9034bbc-3ded-4621-a794-743ffed4deff",
   "metadata": {},
   "outputs": [
    {
     "name": "stdout",
     "output_type": "stream",
     "text": [
      "The resulting array of digits: [1, 2, 4]\n"
     ]
    }
   ],
   "source": [
    "def IncrementInteger(nums):\n",
    "    arr=[]\n",
    "    n=len(nums)\n",
    "    for i in range(n):\n",
    "        if i==(n-1):\n",
    "            n+=1\n",
    "            arr.append(n)\n",
    "        else:\n",
    "            arr.append(nums[i])\n",
    "    return arr\n",
    "nums=[1,2,3]\n",
    "k=IncrementInteger(nums)\n",
    "print(\"The resulting array of digits:\",k)"
   ]
  },
  {
   "cell_type": "markdown",
   "id": "36df6666-8858-41c5-985b-f0821261f6a1",
   "metadata": {},
   "source": [
    "Q 5. You are given two integer arrays nums1 and nums2, sorted in\n",
    "non-decreasing order, and two integers m and n, representing the\n",
    "number of elements in nums1 and nums2 respectively.<br>\n",
    "Merge nums1 and nums2 into a single array sorted in non\u0002decreasing order.\n",
    "The final sorted array should not be returned by the function, but\n",
    "instead be stored inside the array nums1. To accommodate this,\n",
    "nums1 has a length of m + n, where the first m elements denote the\n",
    "elements that should be merged, and the last n elements are set to 0\n",
    "and should be ignored. nums2 has a length of n.<br>.\n",
    "Example 1:<br>\n",
    "Input: nums1 = [1,2,3,0,0,0], m = 3, nums2 = [2,5,6], n = 3<br>\n",
    "Output: [1,2,2,3,5,6]<br>\n",
    "Explanation: The arrays we are merging are [1,2,3] and [2,5,6].\n",
    "The result of the merge is [1,2,2,3,5,6] with the underlined elements\n",
    "coming from nums1<br>"
   ]
  },
  {
   "cell_type": "code",
   "execution_count": 27,
   "id": "649899b1-de08-4f1b-a531-d42f34b7ff74",
   "metadata": {},
   "outputs": [
    {
     "name": "stdout",
     "output_type": "stream",
     "text": [
      "[1, 2, 2, 3, 5, 6]\n"
     ]
    }
   ],
   "source": [
    "def merge(nums1, m, nums2, n):\n",
    "    p1 = m - 1\n",
    "    p2 = n - 1\n",
    "    p = m + n - 1\n",
    "\n",
    "    while p1 >= 0 and p2 >= 0:\n",
    "        if nums1[p1] > nums2[p2]:\n",
    "            nums1[p] = nums1[p1]\n",
    "            p1 -= 1\n",
    "        else:\n",
    "            nums1[p] = nums2[p2]\n",
    "            p2 -= 1\n",
    "        p -= 1\n",
    "\n",
    "\n",
    "nums1 = [1, 2, 3, 0, 0, 0]\n",
    "m = 3\n",
    "nums2 = [2, 5, 6]\n",
    "n = 3\n",
    "\n",
    "merge(nums1, m, nums2, n)\n",
    "print(nums1) "
   ]
  },
  {
   "cell_type": "markdown",
   "id": "6ee2e422-db54-4c71-b13a-2aae31e4b279",
   "metadata": {},
   "source": [
    "Q 6. Given an integer array nums, return true if any value appears at\n",
    "least twice in the array, and return false if every element is distinct.\n",
    "Example 1:<br>\n",
    "Input: nums = [1,2,3,1]<br>\n",
    "Output: true<br>"
   ]
  },
  {
   "cell_type": "code",
   "execution_count": 28,
   "id": "83600919-08a3-48fa-9f25-b3bd2042f44e",
   "metadata": {},
   "outputs": [
    {
     "name": "stdout",
     "output_type": "stream",
     "text": [
      "Output: true\n"
     ]
    }
   ],
   "source": [
    "def appeardTwice(nums):\n",
    "    new=nums\n",
    "    for i in range(len(nums)):  \n",
    "        if i==nums[i]:\n",
    "            return \"true\"\n",
    "            break\n",
    "    return \"false\"  \n",
    "nums=[1,2,3,3]\n",
    "s=appeardTwice(nums)\n",
    "print(\"Output:\",s)"
   ]
  },
  {
   "cell_type": "markdown",
   "id": "698b1fcc-0b0a-4414-a3d1-e2a1c213002d",
   "metadata": {},
   "source": [
    "Q 7. Given an integer array nums, move all 0's to the end of it while\n",
    "maintaining the relative order of the nonzero elements.\n",
    "Note that you must do this in-place without making a copy of the\n",
    "array.<br>\n",
    "Example 1:<br>\n",
    "Input: nums = [0,1,0,3,12]<br>\n",
    "Output: [1,3,12,0,0]<br>"
   ]
  },
  {
   "cell_type": "code",
   "execution_count": 29,
   "id": "0b535d5f-9969-4857-9655-d2cb00dc7e8c",
   "metadata": {},
   "outputs": [],
   "source": [
    "def nonZero(nums):\n",
    "    non_zero_pointer=0\n",
    "    for i in range(len(nums)):\n",
    "        if nums[i]!=0:\n",
    "            nums[non_zero_pointer]=nums[i]\n",
    "            non_zero_pointer+=1\n",
    "            \n",
    "    while non_zero_pointer < len(nums):\n",
    "        nums[non_zero_pointer] = 0\n",
    "        non_zero_pointer += 1"
   ]
  },
  {
   "cell_type": "code",
   "execution_count": 22,
   "id": "dab275ac-456b-4645-9481-8b7464e92087",
   "metadata": {},
   "outputs": [
    {
     "name": "stdout",
     "output_type": "stream",
     "text": [
      "[1, 3, 12, 0, 0]\n"
     ]
    }
   ],
   "source": [
    "nums=[0,1,0,3,12]\n",
    "nonZero(nums)\n",
    "print(nums)"
   ]
  },
  {
   "cell_type": "code",
   "execution_count": null,
   "id": "ebbd9e5b-e329-4148-a610-123e738f852e",
   "metadata": {},
   "outputs": [],
   "source": []
  }
 ],
 "metadata": {
  "kernelspec": {
   "display_name": "Python 3 (ipykernel)",
   "language": "python",
   "name": "python3"
  },
  "language_info": {
   "codemirror_mode": {
    "name": "ipython",
    "version": 3
   },
   "file_extension": ".py",
   "mimetype": "text/x-python",
   "name": "python",
   "nbconvert_exporter": "python",
   "pygments_lexer": "ipython3",
   "version": "3.10.8"
  }
 },
 "nbformat": 4,
 "nbformat_minor": 5
}
