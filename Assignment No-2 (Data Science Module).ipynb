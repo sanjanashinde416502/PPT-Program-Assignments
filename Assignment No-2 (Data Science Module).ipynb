{
 "cells": [
  {
   "cell_type": "markdown",
   "id": "85ce58f4-d489-45ee-aed9-59d05ca66c21",
   "metadata": {},
   "source": [
    "1. Scenario: A company wants to analyze the sales performance of its products in different regions. They have collected the following data:<br> Region A: [10, 15, 12, 8, 14] <br>Region B: [18, 20, 16, 22, 25] <br>Calculate the mean sales for each region"
   ]
  },
  {
   "cell_type": "code",
   "execution_count": 5,
   "id": "cf308d22-0fac-4032-8715-adbc377c2e95",
   "metadata": {},
   "outputs": [
    {
     "name": "stdout",
     "output_type": "stream",
     "text": [
      "The mean sales for region A: 11.8\n",
      "The mean sales for region B: 20.2\n"
     ]
    }
   ],
   "source": [
    "# Ans:\n",
    "import numpy as np\n",
    "Region_A=[10, 15, 12, 8, 14]\n",
    "Region_B=[18, 20, 16, 22, 25]\n",
    "mean_of_regionA=np.mean(Region_A)\n",
    "mean_of_regionB=np.mean(Region_B)\n",
    "print(\"The mean sales for region A:\",mean_of_regionA)\n",
    "print(\"The mean sales for region B:\",mean_of_regionB)"
   ]
  },
  {
   "cell_type": "markdown",
   "id": "d6ad419e-a4f2-4f6c-8866-11af9c4df4cd",
   "metadata": {},
   "source": [
    "2. Scenario: A survey is conducted to measure customer satisfaction on a scale of 1 to 5. The data collected is as follows: <br>[4, 5, 2, 3, 5, 4, 3, 2, 4, 5] <br>Calculate the mode of the survey responses."
   ]
  },
  {
   "cell_type": "code",
   "execution_count": 7,
   "id": "808cdb8d-2e5b-49dd-8726-a442496c7657",
   "metadata": {},
   "outputs": [
    {
     "name": "stdout",
     "output_type": "stream",
     "text": [
      "the mode of the survey responses: 4\n"
     ]
    }
   ],
   "source": [
    "# Ans:\n",
    "import statistics as st\n",
    "scale=[4, 5, 2, 3, 5, 4, 3, 2, 4, 5]\n",
    "mode=st.mode(scale)\n",
    "print(\"the mode of the survey responses:\",mode)"
   ]
  },
  {
   "cell_type": "markdown",
   "id": "26e1889c-9f3c-451d-9a80-5b3c1544a13d",
   "metadata": {},
   "source": [
    "3. Scenario: A company wants to compare the salaries of two departments. The salary data for Department A and Department B are as follows:<br> Department A: [5000, 6000, 5500, 7000] <br>Department B: [4500, 5500, 5800, 6000, 5200] <br>Calculate the median salary for each department."
   ]
  },
  {
   "cell_type": "code",
   "execution_count": 17,
   "id": "73f21ab9-d157-480a-b957-8e1ef7c8e97a",
   "metadata": {},
   "outputs": [
    {
     "name": "stdout",
     "output_type": "stream",
     "text": [
      "The median salary for department A: 5750.0\n",
      "The median salary for department B: 5500.0\n"
     ]
    }
   ],
   "source": [
    "# Ans:\n",
    "import numpy as np\n",
    "Department_A=[5000, 6000, 5500, 7000]\n",
    "Department_B=[4500, 5500, 5800, 6000, 5200]\n",
    "median_A=np.median(Department_A)\n",
    "median_B=np.median(Department_B)\n",
    "print(\"The median salary for department A:\",median_A)\n",
    "print(\"The median salary for department B:\",median_B)\n"
   ]
  },
  {
   "cell_type": "markdown",
   "id": "a7a5f186-1f5d-43b6-9e3d-ba349a008827",
   "metadata": {},
   "source": [
    "4. Scenario: A data analyst wants to determine the variability in the daily stock prices of a company. The data collected is as follows:<br> [25.5, 24.8, 26.1, 25.3, 24.9] <br>Calculate the range of the stock prices."
   ]
  },
  {
   "cell_type": "code",
   "execution_count": 20,
   "id": "1019d6e1-73cc-494a-9e38-065261f76f39",
   "metadata": {},
   "outputs": [
    {
     "name": "stdout",
     "output_type": "stream",
     "text": [
      "The range of the stock prices: 1.3000000000000007\n"
     ]
    }
   ],
   "source": [
    "# Ans:\n",
    "data=[25.5, 24.8, 26.1, 25.3, 24.9]\n",
    "range_of_stock=max(data)-min(data)\n",
    "print(\"The range of the stock prices:\",range_of_stock)"
   ]
  },
  {
   "cell_type": "markdown",
   "id": "8bb033aa-bcbd-49a4-aa48-6d1f61e9a87a",
   "metadata": {},
   "source": [
    "5. Scenario: A study is conducted to compare the performance of two different teaching methods. The test scores of the students in each group are as follows: <br>Group A: [85, 90, 92, 88, 91]<br> Group B: [82, 88, 90, 86, 87] <br>Perform a t-test to determine if there is a significant difference in the mean scores between the two groups."
   ]
  },
  {
   "cell_type": "code",
   "execution_count": 25,
   "id": "ae66871c-b1f3-4f83-938d-e6497fec9719",
   "metadata": {},
   "outputs": [
    {
     "name": "stdout",
     "output_type": "stream",
     "text": [
      "T-statistic: 1.4312528946642733\n",
      "P-value: 0.19023970239078333\n"
     ]
    }
   ],
   "source": [
    "from scipy import stats\n",
    "\n",
    "# Test scores for Group A and Group B\n",
    "group_a = [85, 90, 92, 88, 91]\n",
    "group_b = [82, 88, 90, 86, 87]\n",
    "\n",
    "# Perform independent samples t-test\n",
    "t_statistic, p_value = stats.ttest_ind(group_a, group_b)\n",
    "\n",
    "print(\"T-statistic:\", t_statistic)\n",
    "print(\"P-value:\", p_value)"
   ]
  },
  {
   "cell_type": "markdown",
   "id": "d6b8a100-8526-428b-9d74-0363e2bae260",
   "metadata": {},
   "source": [
    "6. Scenario: A company wants to analyze the relationship between advertising expenditure and sales. The data collected is as follows:<br> Advertising Expenditure (in thousands): [10, 15, 12, 8, 14] <br>Sales (in thousands): [25, 30, 28, 20, 26] <br>Calculate the correlation coefficient between advertising expenditure and sales"
   ]
  },
  {
   "cell_type": "code",
   "execution_count": 5,
   "id": "ccb06cba-b65a-445a-b5d1-e3fbb5526e99",
   "metadata": {},
   "outputs": [
    {
     "name": "stdout",
     "output_type": "stream",
     "text": [
      "The correlation coefficient between advertising expenditure and sales: 0.8757511375750132\n"
     ]
    }
   ],
   "source": [
    "# Ans:\n",
    "import numpy as np\n",
    "Advertising_Expenditure= [10, 15, 12, 8, 14]\n",
    "Sales = [25, 30, 28, 20, 26]\n",
    "correlation=np.corrcoef(Advertising_Expenditure,Sales)[0,1]\n",
    "print(\"The correlation coefficient between advertising expenditure and sales:\",correlation)"
   ]
  },
  {
   "cell_type": "markdown",
   "id": "ce014632-fefd-4018-95a1-2611ded2f016",
   "metadata": {},
   "source": [
    "7. Scenario: A survey is conducted to measure the heights of a group of people. The data collected is as follows:<br> [160, 170, 165, 155, 175, 180, 170] <br>Calculate the standard deviation of the heights."
   ]
  },
  {
   "cell_type": "code",
   "execution_count": 8,
   "id": "f610f512-e7be-48c8-810e-252a0317e695",
   "metadata": {},
   "outputs": [
    {
     "name": "stdout",
     "output_type": "stream",
     "text": [
      "The standard deviation of the heights: 7.953949089757174\n"
     ]
    }
   ],
   "source": [
    "# Ans:\n",
    "import numpy as np\n",
    "data=[160, 170, 165, 155, 175, 180, 170]\n",
    "std=np.std(data)\n",
    "print(\"The standard deviation of the heights:\",std)"
   ]
  },
  {
   "cell_type": "markdown",
   "id": "3763b18e-6329-495b-8e88-46baac0a82c8",
   "metadata": {},
   "source": [
    "8. Scenario: A company wants to analyze the relationship between employee tenure and job satisfaction. The data collected is as follows:<br>\n",
    "Employee Tenure (in years): [2, 3, 5, 4, 6, 2, 4] <br>Job Satisfaction (on a scale of 1 to 10): [7, 8, 6, 9, 5, 7, 6]<br> Perform a linear regression analysis to predict job satisfaction based on employee tenure."
   ]
  },
  {
   "cell_type": "code",
   "execution_count": 8,
   "id": "99d88dcf-ba82-4672-89bf-567e3d23b357",
   "metadata": {},
   "outputs": [
    {
     "name": "stdout",
     "output_type": "stream",
     "text": [
      "Predicted job satisfaction: 7.191489361702127\n"
     ]
    }
   ],
   "source": [
    "import numpy as np\n",
    "from sklearn.linear_model import LinearRegression\n",
    "\n",
    "# Employee tenure data\n",
    "employee_tenure = np.array([2, 3, 5, 4, 6, 2, 4]).reshape(-1, 1)  # Reshape to a 2D array\n",
    "\n",
    "# Job satisfaction data\n",
    "job_satisfaction = np.array([7, 8, 6, 9, 5, 7, 6])\n",
    "\n",
    "# Create a linear regression model\n",
    "model = LinearRegression()\n",
    "\n",
    "# Fit the model using the employee tenure and job satisfaction data\n",
    "model.fit(employee_tenure, job_satisfaction)\n",
    "\n",
    "# Predict job satisfaction for a new tenure value\n",
    "new_tenure = np.array([[3]])  # Example: predicting job satisfaction for a tenure of 3 years\n",
    "predicted_satisfaction = model.predict(new_tenure)\n",
    "\n",
    "print(\"Predicted job satisfaction:\", predicted_satisfaction[0])"
   ]
  },
  {
   "cell_type": "markdown",
   "id": "7bb4ab57-5774-4cfb-91c9-3f58eb44c62a",
   "metadata": {},
   "source": [
    "9. Scenario: A study is conducted to compare the effectiveness of two different medications. The recovery times of the patients in each group are as follows: <br>Medication A: [10, 12, 14, 11, 13]<br> Medication B: [15, 17, 16, 14, 18] <br>Perform an analysis of variance (ANOVA) to determine if there is a significant difference in the mean recovery times between the two medications."
   ]
  },
  {
   "cell_type": "code",
   "execution_count": 11,
   "id": "42278d13-fb85-4f3c-8d17-6b6b4934736e",
   "metadata": {},
   "outputs": [
    {
     "name": "stdout",
     "output_type": "stream",
     "text": [
      "ANOVA F-statistic: 16.0\n",
      "ANOVA p-value: 0.003949772803445328\n"
     ]
    }
   ],
   "source": [
    "import numpy as np\n",
    "\n",
    "# Recovery times for Medication A and Medication B\n",
    "medication_a = np.array([10, 12, 14, 11, 13])\n",
    "medication_b = np.array([15, 17, 16, 14, 18])\n",
    "\n",
    "# Calculate the overall mean\n",
    "overall_mean = np.mean(np.concatenate((medication_a, medication_b)))\n",
    "\n",
    "# Calculate the sum of squares between groups\n",
    "ss_between = np.sum((np.mean(medication_a) - overall_mean) ** 2) * len(medication_a) + np.sum((np.mean(medication_b) - overall_mean) ** 2) * len(medication_b)\n",
    "\n",
    "# Calculate the sum of squares within groups\n",
    "ss_within = np.sum((medication_a - np.mean(medication_a)) ** 2) + np.sum((medication_b - np.mean(medication_b)) ** 2)\n",
    "\n",
    "# Calculate the degrees of freedom\n",
    "df_between = 1  # Number of groups minus 1\n",
    "df_within = len(medication_a) + len(medication_b) - 2  # Total number of observations minus number of groups\n",
    "\n",
    "# Calculate the mean squares between and within groups\n",
    "ms_between = ss_between / df_between\n",
    "ms_within = ss_within / df_within\n",
    "\n",
    "# Calculate the F-statistic\n",
    "f_statistic = ms_between / ms_within\n",
    "\n",
    "# Calculate the p-value\n",
    "from scipy.stats import f\n",
    "\n",
    "p_value = 1 - f.cdf(f_statistic, df_between, df_within)\n",
    "\n",
    "print(\"ANOVA F-statistic:\", f_statistic)\n",
    "print(\"ANOVA p-value:\", p_value)"
   ]
  },
  {
   "cell_type": "markdown",
   "id": "ccd14975-b27e-46ca-9f08-fb3233872aba",
   "metadata": {},
   "source": [
    "10. Scenario: A company wants to analyze customer feedback ratings on a scale of 1 to 10. The data collected is as follows:<br> [8, 9, 7, 6, 8, 10, 9, 8, 7, 8] <br>Calculate the 75th percentile of the feedback ratings."
   ]
  },
  {
   "cell_type": "code",
   "execution_count": 22,
   "id": "afa431d4-5d26-4082-bc48-13e05393f669",
   "metadata": {},
   "outputs": [
    {
     "name": "stdout",
     "output_type": "stream",
     "text": [
      "The 75th percentile of the feedback ratings: 8.75\n"
     ]
    }
   ],
   "source": [
    "# Ans:\n",
    "import numpy as np\n",
    "data=np.array([8, 9, 7, 6, 8, 10, 9, 8, 7, 8])\n",
    "percentile=np.percentile(data,75)\n",
    "print(\"The 75th percentile of the feedback ratings:\",percentile)"
   ]
  },
  {
   "cell_type": "markdown",
   "id": "3c61e85c-7aa2-4cf0-aec1-c6561af24c35",
   "metadata": {},
   "source": [
    "11. Scenario: A quality control department wants to test the weight consistency of a product. The weights of a sample of products are as follows:<br> [10.2, 9.8, 10.0, 10.5, 10.3, 10.1] <br>Perform a hypothesis test to determine if the mean weight differs significantly from 10 grams."
   ]
  },
  {
   "cell_type": "code",
   "execution_count": 35,
   "id": "72da1b86-fbb5-4b3c-b986-2431f4bcfb14",
   "metadata": {},
   "outputs": [
    {
     "name": "stdout",
     "output_type": "stream",
     "text": [
      "Fail to reject the null hypothesis.\n",
      "Mean weight does not signicantly from 10 grams.\n",
      "t_statistic: 1.5126584522688367\n",
      "p_value: 0.19077595151110102\n"
     ]
    }
   ],
   "source": [
    "# Ans:\n",
    "import numpy as np\n",
    "from scipy.stats import ttest_1samp\n",
    "weights=np.array([10.2, 9.8, 10.0, 10.5, 10.3, 10.1])  # sample weights\n",
    " # parameters for hythothesis testing\n",
    "null_mean=10   # null hypothesis\n",
    "alpha=0.05\n",
    "\n",
    "# perform one-sample t-test\n",
    "t_statistic,p_value=ttest_1samp(weights, null_mean)\n",
    "\n",
    "# compare p_value with significance level\n",
    "if p_value < alpha:\n",
    "    print(\"Reject the null hypothesis.\")\n",
    "    print(\"Mean weight differs significantly from 10 grams.\")\n",
    "else:\n",
    "    print(\"Fail to reject the null hypothesis.\")\n",
    "    print(\"Mean weight does not signicantly from 10 grams.\")\n",
    "    \n",
    "print(\"t_statistic:\",t_statistic)\n",
    "print(\"p_value:\",p_value)"
   ]
  },
  {
   "cell_type": "markdown",
   "id": "abd8c529-5c0a-412d-88b2-2ba95c5e9b60",
   "metadata": {},
   "source": [
    "12. Scenario: A company wants to analyze the click-through rates of two different website designs. The number of clicks for each design is as follows:<br> Design A: [100, 120, 110, 90, 95] <br>Design B: [80, 85, 90, 95, 100] <br>Perform a chi-square test to determine if there is a significant difference in the click-through rates between the two designs."
   ]
  },
  {
   "cell_type": "code",
   "execution_count": 38,
   "id": "22936bb2-b43d-4144-9fe1-423fc9cd2f7f",
   "metadata": {},
   "outputs": [
    {
     "name": "stdout",
     "output_type": "stream",
     "text": [
      "Chi-square statistics: 6.110658166925435\n",
      "p-value: 0.19103526314060293\n"
     ]
    }
   ],
   "source": [
    "# Ans:\n",
    "import numpy as np\n",
    "from scipy.stats import chi2_contingency\n",
    "\n",
    "# Click-through rates for Design A and Design B\n",
    "design_a=np.array([100, 120, 110, 90, 95])\n",
    "design_b=np.array([80, 85, 90, 95, 100])\n",
    "\n",
    "# Create the contingency table\n",
    "observed=np.array([design_a,design_b])\n",
    "\n",
    "chi2_statistic,p_value,_,_= chi2_contingency(observed)\n",
    "\n",
    "# Perform chi-square test\n",
    "print(\"Chi-square statistics:\",chi2_statistic)\n",
    "print(\"p-value:\",p_value)"
   ]
  },
  {
   "cell_type": "markdown",
   "id": "b056b63b-07db-4623-80c2-14bb2cc48db7",
   "metadata": {},
   "source": [
    "13. Scenario: A survey is conducted to measure customer satisfaction with a product on a scale of 1 to 10. The data collected is as follows:<br> [7, 9, 6, 8, 10, 7, 8, 9, 7, 8] <br>Calculate the 95% confidence interval for the population mean satisfaction score."
   ]
  },
  {
   "cell_type": "code",
   "execution_count": 44,
   "id": "82220b5a-224a-4330-8c1c-0d9610ea39fd",
   "metadata": {},
   "outputs": [
    {
     "name": "stdout",
     "output_type": "stream",
     "text": [
      "95% Confidence Interval: (7.043561120599888, 8.756438879400113)\n"
     ]
    }
   ],
   "source": [
    "# Ans:\n",
    "import numpy as np\n",
    "from scipy.stats import t\n",
    "\n",
    "# Customer satisfaction scores\n",
    "satisfaction_scores = np.array([7, 9, 6, 8, 10, 7, 8, 9, 7, 8])\n",
    "\n",
    "# Calculate sample mean and standard deviation\n",
    "sample_mean = np.mean(satisfaction_scores)\n",
    "sample_std = np.std(satisfaction_scores, ddof=1)  # ddof=1 for sample standard deviation\n",
    "                                                 # ddof means Delta Degrees of Freedom \n",
    "# Calculate sample size\n",
    "n = len(satisfaction_scores)\n",
    "\n",
    "# Set the confidence level and degrees of freedom\n",
    "confidence_level = 0.95\n",
    "degrees_of_freedom = n - 1\n",
    "\n",
    "# Calculate the critical value (t-score)\n",
    "t_score = t.ppf((1 + confidence_level) / 2, degrees_of_freedom)\n",
    "\n",
    "# Calculate the margin of error\n",
    "margin_of_error = t_score * (sample_std / np.sqrt(n))\n",
    "\n",
    "# Calculate the confidence interval\n",
    "confidence_interval = (sample_mean - margin_of_error, sample_mean + margin_of_error)\n",
    "\n",
    "print(\"95% Confidence Interval:\", confidence_interval)"
   ]
  },
  {
   "cell_type": "markdown",
   "id": "d3d93360-e941-4830-969e-bd2f28e28856",
   "metadata": {},
   "source": [
    "14. Scenario: A company wants to analyze the effect of temperature on product performance. The data collected is as follows:<br> Temperature (in degrees Celsius): [20, 22, 23, 19, 21] <br>Performance (on a scale of 1 to 10): [8, 7, 9, 6, 8] <br>Perform a simple linear regression to predict performance based on temperature."
   ]
  },
  {
   "cell_type": "code",
   "execution_count": 92,
   "id": "5c825fad-32fe-40f4-8696-68be65ace236",
   "metadata": {},
   "outputs": [
    {
     "name": "stdout",
     "output_type": "stream",
     "text": [
      "Slope: -3.506097560975609\n",
      "Intercept: 136.3719512195122\n",
      "R-squared: 0.8064024390243901\n",
      "p-value: 0.03850178234753776\n",
      "Standard Error: 0.9918303504036147\n"
     ]
    }
   ],
   "source": [
    "# Ans:\n",
    "import numpy as np\n",
    "from scipy.stats import linregress\n",
    "\n",
    "# Price data\n",
    "price = np.array([10, 15, 12, 8, 14])\n",
    "\n",
    "# Sales data\n",
    "sales = np.array([100, 80, 90, 110, 95])\n",
    "\n",
    "# Perform simple linear regression\n",
    "slope, intercept, r_value, p_value, std_err = linregress(price, sales)\n",
    "\n",
    "print(\"Slope:\", slope)\n",
    "print(\"Intercept:\", intercept)\n",
    "print(\"R-squared:\", r_value**2)\n",
    "print(\"p-value:\", p_value)\n",
    "print(\"Standard Error:\", std_err)"
   ]
  },
  {
   "cell_type": "markdown",
   "id": "9075bbbb-ec22-4f36-9aab-7bb0d97b011d",
   "metadata": {},
   "source": [
    "15. Scenario: A study is conducted to compare the preferences of two groups of participants. The preferences are measured on a Likert scale from 1 to 5. The data collected is as follows:<br> Group A: [4, 3, 5, 2, 4]<br>\n",
    "Group B: [3, 2, 4, 3, 3] <br>Perform a Mann-Whitney U test to determine if there is a significant difference in the median preferences between the two groups."
   ]
  },
  {
   "cell_type": "code",
   "execution_count": 80,
   "id": "b31d4e99-8111-4356-9a6c-291a7fb10ec8",
   "metadata": {},
   "outputs": [
    {
     "name": "stdout",
     "output_type": "stream",
     "text": [
      "Mann-Whitney U test statistic: 17.0\n",
      "p-value: 0.380836480306712\n"
     ]
    }
   ],
   "source": [
    "# Ans:\n",
    "import numpy as np\n",
    "from scipy.stats import mannwhitneyu\n",
    "\n",
    "# Preferences for Group A and Group B\n",
    "group_a = np.array([4, 3, 5, 2, 4])\n",
    "group_b = np.array([3, 2, 4, 3, 3])\n",
    "\n",
    "# Perform Mann-Whitney U test\n",
    "test_statistic, p_value = mannwhitneyu(group_a, group_b)\n",
    "\n",
    "print(\"Mann-Whitney U test statistic:\", test_statistic)\n",
    "print(\"p-value:\", p_value)"
   ]
  },
  {
   "cell_type": "markdown",
   "id": "b5fd4169-b3cd-410f-9741-c6bc691d0db9",
   "metadata": {},
   "source": [
    "16. Scenario: A company wants to analyze the distribution of customer ages. The data collected is as follows: <br>[25, 30, 35, 40, 45, 50, 55, 60, 65, 70]<br> Calculate the interquartile range (IQR) of the ages."
   ]
  },
  {
   "cell_type": "code",
   "execution_count": 83,
   "id": "3e4974ed-8802-4a47-a5c0-dcb2bbafff71",
   "metadata": {},
   "outputs": [
    {
     "name": "stdout",
     "output_type": "stream",
     "text": [
      "The interquartile range (IQR) of the ages: 22.5\n"
     ]
    }
   ],
   "source": [
    "# Ans:\n",
    "import numpy as np\n",
    "data=np.array([25, 30, 35, 40, 45, 50, 55, 60, 65, 70])\n",
    "Q1,Q3=np.quantile(data,[0.25,0.75])\n",
    "IQR=Q3-Q1\n",
    "print(\"The interquartile range (IQR) of the ages:\",IQR)"
   ]
  },
  {
   "cell_type": "markdown",
   "id": "c489a608-25cd-4930-bcbb-12fa13d69c8c",
   "metadata": {},
   "source": [
    "17. Scenario: A study is conducted to compare the performance of three different machine learning algorithms. The accuracy scores for each algorithm are as follows:<br> Algorithm A: [0.85, 0.80, 0.82, 0.87, 0.83]<br> Algorithm B: [0.78, 0.82, 0.84, 0.80, 0.79] <br>Algorithm C: [0.90, 0.88, 0.89, 0.86, 0.87] <br>Perform a Kruskal-Wallis test to determine if there is a significant difference in the median accuracy scores between the algorithms."
   ]
  },
  {
   "cell_type": "code",
   "execution_count": 85,
   "id": "af4f8d1d-8b36-4104-817b-f903dfa2cb9c",
   "metadata": {},
   "outputs": [
    {
     "name": "stdout",
     "output_type": "stream",
     "text": [
      "Kruskal-Wallis test statistic: 9.696947935368053\n",
      "p-value: 0.007840333026249539\n"
     ]
    }
   ],
   "source": [
    "# Ans:\n",
    "import numpy as np\n",
    "from scipy.stats import kruskal\n",
    "\n",
    "Algorithm_A= [0.85, 0.80, 0.82, 0.87, 0.83]\n",
    "Algorithm_B= [0.78, 0.82, 0.84, 0.80, 0.79]\n",
    "Algorithm_c=[0.90, 0.88, 0.89, 0.86, 0.87]\n",
    "\n",
    "# performing Kruskal-Wallis test\n",
    "test_statistic,p_value=kruskal(Algorithm_A,Algorithm_B,Algorithm_c)\n",
    "\n",
    "print(\"Kruskal-Wallis test statistic:\", test_statistic)\n",
    "print(\"p-value:\", p_value)"
   ]
  },
  {
   "cell_type": "markdown",
   "id": "5a9c360e-5258-41cc-969b-a9d7f422de6e",
   "metadata": {},
   "source": [
    "18. Scenario: A company wants to analyze the effect of price on sales. The data collected is as follows:/<br> Price (in dollars): [10, 15, 12, 8, 14]<br> Sales: [100, 80, 90, 110, 95] <br>Perform a simple linear regression to predict sales based on price."
   ]
  },
  {
   "cell_type": "code",
   "execution_count": 86,
   "id": "acd57c24-edb6-447f-a9b6-e7e6903ab719",
   "metadata": {},
   "outputs": [
    {
     "name": "stdout",
     "output_type": "stream",
     "text": [
      "Slope: -3.506097560975609\n",
      "Intercept: 136.3719512195122\n",
      "R-squared: 0.8064024390243901\n",
      "p-value: 0.03850178234753776\n",
      "Standard Error: 0.9918303504036147\n"
     ]
    }
   ],
   "source": [
    "# Ans:\n",
    "import numpy as np\n",
    "from scipy.stats import linregress\n",
    "\n",
    "# Price data\n",
    "price = np.array([10, 15, 12, 8, 14])\n",
    "\n",
    "# Sales data\n",
    "sales = np.array([100, 80, 90, 110, 95])\n",
    "\n",
    "# Perform simple linear regression\n",
    "slope, intercept, r_value, p_value, std_err = linregress(price, sales)\n",
    "\n",
    "print(\"Slope:\", slope)\n",
    "print(\"Intercept:\", intercept)\n",
    "print(\"R-squared:\", r_value**2)\n",
    "print(\"p-value:\", p_value)\n",
    "print(\"Standard Error:\", std_err)"
   ]
  },
  {
   "cell_type": "markdown",
   "id": "9e5f9811-d183-4875-8eb9-f3f078685191",
   "metadata": {},
   "source": [
    "19. Scenario: A survey is conducted to measure the satisfaction levels of customers with a new product. The data collected is as follows:<br> [7, 8, 9, 6, 8, 7, 9, 7, 8, 7] <br>Calculate the standard error of the mean satisfaction score"
   ]
  },
  {
   "cell_type": "code",
   "execution_count": 90,
   "id": "39f6b006-80f9-4447-86ce-960f7e637802",
   "metadata": {},
   "outputs": [
    {
     "name": "stdout",
     "output_type": "stream",
     "text": [
      "Standard Error of the Mean: 0.30550504633038933\n"
     ]
    }
   ],
   "source": [
    "# Ans:\n",
    "import numpy as np\n",
    "\n",
    "satisfaction_score=np.array([7, 8, 9, 6, 8, 7, 9, 7, 8, 7])\n",
    "standard_error=np.std(satisfaction_score,ddof=1)/np.sqrt(len(satisfaction_score))\n",
    "print(\"Standard Error of the Mean:\", standard_error)"
   ]
  },
  {
   "cell_type": "markdown",
   "id": "6129ff5b-5f7e-4c1a-8e61-da46e3da4aa1",
   "metadata": {},
   "source": [
    "20. Scenario: A company wants to analyze the relationship between advertising expenditure and sales. The data collected is as follows: <br>Advertising Expenditure (in thousands): [10, 15, 12, 8, 14] <br>Sales (in thousands): [25, 30, 28, 20, 26] <br>Perform a multiple regression analysis to predict sales based on advertising expenditure."
   ]
  },
  {
   "cell_type": "code",
   "execution_count": 89,
   "id": "9f425e1a-e70e-4e51-be27-f7e2093129c8",
   "metadata": {},
   "outputs": [
    {
     "name": "stdout",
     "output_type": "stream",
     "text": [
      "Intercept: 12.20121951219511\n",
      "Slope: 1.1524390243902447\n"
     ]
    }
   ],
   "source": [
    "# Ans:\n",
    "import numpy as np\n",
    "from scipy.linalg import lstsq\n",
    "\n",
    "# Advertising expenditure data\n",
    "advertising_expenditure = np.array([10, 15, 12, 8, 14])\n",
    "\n",
    "# Sales data\n",
    "sales = np.array([25, 30, 28, 20, 26])\n",
    "\n",
    "# Create a design matrix\n",
    "X = np.column_stack((np.ones_like(advertising_expenditure), advertising_expenditure))\n",
    "\n",
    "# Perform multiple regression using least squares\n",
    "coefficients, _, _, _ = lstsq(X, sales, cond=None)\n",
    "\n",
    "# Extract the intercept and slope coefficients\n",
    "intercept, slope = coefficients[0], coefficients[1]\n",
    "\n",
    "print(\"Intercept:\", intercept)\n",
    "print(\"Slope:\", slope)"
   ]
  },
  {
   "cell_type": "code",
   "execution_count": null,
   "id": "e9ec2810-413d-46c2-bc62-90433707839f",
   "metadata": {},
   "outputs": [],
   "source": []
  }
 ],
 "metadata": {
  "kernelspec": {
   "display_name": "Python 3 (ipykernel)",
   "language": "python",
   "name": "python3"
  },
  "language_info": {
   "codemirror_mode": {
    "name": "ipython",
    "version": 3
   },
   "file_extension": ".py",
   "mimetype": "text/x-python",
   "name": "python",
   "nbconvert_exporter": "python",
   "pygments_lexer": "ipython3",
   "version": "3.10.8"
  }
 },
 "nbformat": 4,
 "nbformat_minor": 5
}
