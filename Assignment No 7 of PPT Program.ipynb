{
 "cells": [
  {
   "cell_type": "markdown",
   "id": "6bf34fa6-f87e-4035-bfb9-5b2562115aeb",
   "metadata": {},
   "source": [
    "Q.1 Given two strings s and t, determine if they are isomorphic. Two strings s and t are isomorphic if the characters in s can be\n",
    "replaced to get t.<br>\n",
    "All occurrences of a character must be replaced with another\n",
    "character while preserving the order of characters. No two characters\n",
    "may map to the same character, but a character may map to itself.<br>\n",
    "Example 1:<br>\n",
    "Input: s = \"egg\", t = \"add\"<br>\n",
    "Output: true"
   ]
  },
  {
   "cell_type": "code",
   "execution_count": 1,
   "id": "60972fe1-1c60-46a0-9c6d-9a91964b786b",
   "metadata": {},
   "outputs": [
    {
     "name": "stdout",
     "output_type": "stream",
     "text": [
      "True\n"
     ]
    }
   ],
   "source": [
    "# Ans:\n",
    "def is_isomorphic(s: str, t: str) -> bool:\n",
    "    if len(s) != len(t):\n",
    "        return False\n",
    "\n",
    "    s_dict = {}\n",
    "    t_dict = {}\n",
    "\n",
    "    for i in range(len(s)):\n",
    "        s_char = s[i]\n",
    "        t_char = t[i]\n",
    "\n",
    "        if s_char in s_dict:\n",
    "            if s_dict[s_char] != t_char:\n",
    "                return False\n",
    "        elif t_char in t_dict:\n",
    "            return False\n",
    "        else:\n",
    "            s_dict[s_char] = t_char\n",
    "            t_dict[t_char] = s_char\n",
    "\n",
    "    return True\n",
    "\n",
    "s = \"egg\"\n",
    "t = \"add\"\n",
    "\n",
    "result = is_isomorphic(s, t)\n",
    "print(result)"
   ]
  },
  {
   "cell_type": "markdown",
   "id": "21294005-58b1-4e6f-ad8e-933093a907e3",
   "metadata": {},
   "source": [
    "Q.2 Given a string num which represents an integer, return true if num is\n",
    "a strobogrammatic number.<br>\n",
    "A strobogrammatic number is a number that looks the same when\n",
    "rotated 180 degrees (looked at upside down).<br>\n",
    "Example 1:<br>\n",
    "Input: num = \"69\"<br>\n",
    "Output:\n",
    "true"
   ]
  },
  {
   "cell_type": "code",
   "execution_count": 16,
   "id": "22cb7317-d5fb-4f83-9080-94c9bc6d7d06",
   "metadata": {},
   "outputs": [
    {
     "name": "stdout",
     "output_type": "stream",
     "text": [
      "True\n"
     ]
    }
   ],
   "source": [
    "# Ans:\n",
    "def is_strobogrammatic(num: str) -> bool:\n",
    "    left = 0\n",
    "    right = len(num) - 1\n",
    "\n",
    "    while left <= right:\n",
    "        if num[left] == num[right]:\n",
    "            if num[left] not in ['0', '1', '8']:\n",
    "                return False\n",
    "        else:\n",
    "            if (num[left] == '6' and num[right] != '9') or (num[left] == '9' and num[right] != '6'):\n",
    "                return False\n",
    "        left += 1\n",
    "        right -= 1\n",
    "\n",
    "    return True\n",
    "\n",
    "num = \"69\"\n",
    "result = is_strobogrammatic(num)\n",
    "print(result)    "
   ]
  },
  {
   "cell_type": "markdown",
   "id": "969adf33-5438-4694-9638-9c1556b5aa4d",
   "metadata": {},
   "source": [
    "Q.3 Given two non-negative integers, num1 and num2 represented as\n",
    "string, return the sum of num1 and num2 as a string. You must solve the problem without using any built-in library for\n",
    "handling large integers (such as BigInteger). You must also not\n",
    "convert the inputs to integers directly.<br>\n",
    "Example 1:<br>\n",
    "Input: num1 = \"11\", num2 = \"123\"<br>\n",
    "Output:\n",
    "\"134\""
   ]
  },
  {
   "cell_type": "code",
   "execution_count": 17,
   "id": "35dd77b0-1054-492f-8339-0d9e7f78795e",
   "metadata": {},
   "outputs": [
    {
     "name": "stdout",
     "output_type": "stream",
     "text": [
      "134\n"
     ]
    }
   ],
   "source": [
    "# Ans:\n",
    "def addStrings(num1: str, num2: str) -> str:\n",
    "    i = len(num1) - 1\n",
    "    j = len(num2) - 1\n",
    "    carry = 0\n",
    "    result = \"\"\n",
    "\n",
    "    while i >= 0 or j >= 0:\n",
    "        digit1 = int(num1[i]) if i >= 0 else 0\n",
    "        digit2 = int(num2[j]) if j >= 0 else 0\n",
    "\n",
    "        sum = digit1 + digit2 + carry\n",
    "        carry = sum // 10\n",
    "        result += str(sum % 10)\n",
    "\n",
    "        i -= 1\n",
    "        j -= 1\n",
    "\n",
    "    if carry > 0:\n",
    "        result += str(carry)\n",
    "\n",
    "    return result[::-1]\n",
    "\n",
    "num1 = \"11\"\n",
    "num2 = \"123\"\n",
    "\n",
    "result = addStrings(num1, num2)\n",
    "print(result)"
   ]
  },
  {
   "cell_type": "markdown",
   "id": "8a3d8f55-8047-41ea-9d24-fff813a42d7e",
   "metadata": {},
   "source": [
    "Q.4 Given a string s, reverse the order of characters in each word within a\n",
    "sentence while still preserving whitespace and initial word order.\n",
    "Example 1:<br>\n",
    "Input: s = \"Let's take LeetCode contest\"<br>\n",
    "Output: \"s'teL ekat edoCteeL tsetnoc\""
   ]
  },
  {
   "cell_type": "code",
   "execution_count": 18,
   "id": "e16f1aa1-3f03-4218-866a-d8e5035d9426",
   "metadata": {},
   "outputs": [
    {
     "name": "stdout",
     "output_type": "stream",
     "text": [
      "s'teL ekat edoCteeL tsetnoc\n"
     ]
    }
   ],
   "source": [
    "# Ans:\n",
    "def reverseWords(s: str) -> str:\n",
    "    words = s.split()\n",
    "    reversed_words = [word[::-1] for word in words]\n",
    "    reversed_sentence = ' '.join(reversed_words)\n",
    "    return reversed_sentence\n",
    "\n",
    "s = \"Let's take LeetCode contest\"\n",
    "\n",
    "result = reverseWords(s)\n",
    "print(result)"
   ]
  },
  {
   "cell_type": "markdown",
   "id": "46805f75-90d5-4036-9b40-7cdb7bda38c2",
   "metadata": {},
   "source": [
    "Q.5 Given a string s and an integer k, reverse the first k characters for\n",
    "every 2k characters counting from the start of the string.<br>\n",
    "If there are fewer than k characters left, reverse all of them. If there\n",
    "are less than 2k but greater than or equal to k characters, then\n",
    "reverse the first k characters and leave the other as original.<br>\n",
    "Example 1:<br>\n",
    "Input: s = \"abcdefg\", k = 2<br>\n",
    "Output:\n",
    "\"bacdfeg\""
   ]
  },
  {
   "cell_type": "code",
   "execution_count": 19,
   "id": "7e37a0b3-0e99-4d25-af13-f3192920528b",
   "metadata": {},
   "outputs": [
    {
     "name": "stdout",
     "output_type": "stream",
     "text": [
      "bacdfeg\n"
     ]
    }
   ],
   "source": [
    "# Ans:\n",
    "def reverseStr(s: str, k: int) -> str:\n",
    "    char_list = list(s)\n",
    "    n = len(char_list)\n",
    "\n",
    "    for i in range(0, n, 2*k):\n",
    "        char_list[i:i+k] = char_list[i:i+k][::-1]\n",
    "\n",
    "    return ''.join(char_list)\n",
    "\n",
    "s = \"abcdefg\"\n",
    "k = 2\n",
    "\n",
    "result = reverseStr(s, k)\n",
    "print(result)"
   ]
  },
  {
   "cell_type": "markdown",
   "id": "8e2c3cf5-0cc1-4dbc-acf6-2b2316aec995",
   "metadata": {},
   "source": [
    "Q.6 Given two strings s and goal, return true if and only if s can become\n",
    "goal after some number of shifts on s.<br>\n",
    "A shift on s consists of moving the leftmost character of s to the\n",
    "rightmost position.<br>\n",
    "• For example, if s = \"abcde\", then it will be \"bcdea\" after one shift.<br>\n",
    "Example 1:<br>\n",
    "Input: s = \"abcde\", goal = \"cdeab\"<br>\n",
    "Output:\n",
    "true"
   ]
  },
  {
   "cell_type": "code",
   "execution_count": 20,
   "id": "478a251f-02d4-4377-9371-5828b9887234",
   "metadata": {},
   "outputs": [
    {
     "name": "stdout",
     "output_type": "stream",
     "text": [
      "True\n"
     ]
    }
   ],
   "source": [
    "#Ans:\n",
    "def rotateString(s: str, goal: str) -> bool:\n",
    "    if len(s) != len(goal):\n",
    "        return False\n",
    "\n",
    "    concatenated = s + s\n",
    "\n",
    "    if goal in concatenated:\n",
    "        return True\n",
    "    else:\n",
    "        return False\n",
    "    \n",
    "s = \"abcde\"\n",
    "goal = \"cdeab\"\n",
    "\n",
    "result = rotateString(s, goal)\n",
    "print(result)"
   ]
  },
  {
   "cell_type": "markdown",
   "id": "48b7f62f-35fd-47a6-b92d-fdede4e61089",
   "metadata": {},
   "source": [
    "Q.7 Given two strings s and t, return true if they are equal when both are\n",
    "typed into empty text editors. '#' means a backspace character.\n",
    "Note that after backspacing an empty text, the text will continue\n",
    "empty.<br>\n",
    "Example 1:<br>\n",
    "Input: s = \"ab#c\", t = \"ad#c\"<br>\n",
    "Output: true<br>\n",
    "Explanation:\n",
    "Both s and t become \"ac\"."
   ]
  },
  {
   "cell_type": "code",
   "execution_count": 21,
   "id": "b151d221-0dbb-4069-874e-12e78afa0a8d",
   "metadata": {},
   "outputs": [
    {
     "name": "stdout",
     "output_type": "stream",
     "text": [
      "True\n"
     ]
    }
   ],
   "source": [
    "# Ans:\n",
    "def backspaceCompare(s: str, t: str) -> bool:\n",
    "    s_stack = []\n",
    "    t_stack = []\n",
    "\n",
    "    for char in s:\n",
    "        if char != '#':\n",
    "            s_stack.append(char)\n",
    "        elif s_stack:\n",
    "            s_stack.pop()\n",
    "\n",
    "    for char in t:\n",
    "        if char != '#':\n",
    "            t_stack.append(char)\n",
    "        elif t_stack:\n",
    "            t_stack.pop()\n",
    "\n",
    "    return s_stack == t_stack\n",
    "\n",
    "s = \"ab#c\"\n",
    "t = \"ad#c\"\n",
    "\n",
    "result = backspaceCompare(s, t)\n",
    "print(result)"
   ]
  },
  {
   "attachments": {
    "de60ad5a-3e90-41d9-ba61-961aa79189ed.png": {
     "image/png": "[encoded data removed]"
    }
   },
   "cell_type": "markdown",
   "id": "43f7daee-fb36-479d-a65d-1eda8ef7b5f2",
   "metadata": {},
   "source": [
    "Q.8 You are given an array coordinates, coordinates[i] = [x, y], where [x, y]\n",
    "represents the coordinate of a point. Check if these points make a\n",
    "straight line in the XY plane.<br>\n",
    "Example 1:<br>\n",
    "![image.png](attachment:de60ad5a-3e90-41d9-ba61-961aa79189ed.png)"
   ]
  },
  {
   "cell_type": "code",
   "execution_count": 22,
   "id": "383d6ae4-3ec8-4fa1-9ba8-ea20d8262981",
   "metadata": {},
   "outputs": [
    {
     "name": "stdout",
     "output_type": "stream",
     "text": [
      "True\n"
     ]
    }
   ],
   "source": [
    "# Ans:\n",
    "def checkStraightLine(coordinates) -> bool:\n",
    "    x1, y1 = coordinates[0]\n",
    "    x2, y2 = coordinates[1]\n",
    "\n",
    "    # Calculate the slope of the line formed by the first two points\n",
    "    slope = (y2 - y1) / (x2 - x1)\n",
    "\n",
    "    # Check the slope of each subsequent point\n",
    "    for i in range(2, len(coordinates)):\n",
    "        x, y = coordinates[i]\n",
    "        if (y - y1) / (x - x1) != slope:\n",
    "            return False\n",
    "\n",
    "    return True\n",
    "\n",
    "coordinates = [[1,1],[2,2],[3,3],[4,4],[5,5]]\n",
    "\n",
    "result = checkStraightLine(coordinates)\n",
    "print(result)"
   ]
  },
  {
   "cell_type": "code",
   "execution_count": null,
   "id": "8abd2d38-b9f8-4043-a944-f8b1d303e771",
   "metadata": {},
   "outputs": [],
   "source": []
  }
 ],
 "metadata": {
  "kernelspec": {
   "display_name": "Python 3 (ipykernel)",
   "language": "python",
   "name": "python3"
  },
  "language_info": {
   "codemirror_mode": {
    "name": "ipython",
    "version": 3
   },
   "file_extension": ".py",
   "mimetype": "text/x-python",
   "name": "python",
   "nbconvert_exporter": "python",
   "pygments_lexer": "ipython3",
   "version": "3.10.8"
  }
 },
 "nbformat": 4,
 "nbformat_minor": 5
}
