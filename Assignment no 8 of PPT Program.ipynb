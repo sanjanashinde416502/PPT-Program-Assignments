{
 "cells": [
  {
   "cell_type": "markdown",
   "id": "b9fe9b1b-3132-4b30-a01f-d2d7bba36234",
   "metadata": {},
   "source": [
    "Q.1 Given two strings s1 and s2, return *the lowest **ASCII** sum of deleted characters to make two strings equal*.\n",
    "\n",
    "**Example 1:**\n",
    "\n",
    "**Input:** s1 = \"sea\", s2 = \"eat\"\n",
    "\n",
    "**Output:** 231\n",
    "\n",
    "**Explanation:** Deleting \"s\" from \"sea\" adds the ASCII value of \"s\" (115) to the sum.\n",
    "\n",
    "Deleting \"t\" from \"eat\" adds 116 to the sum.\n",
    "\n",
    "At the end, both strings are equal, and 115 + 116 = 231 is the minimum sum possible to achieve this."
   ]
  },
  {
   "cell_type": "code",
   "execution_count": 2,
   "id": "b7983832-6d5d-4d18-b28e-777e3e8dc500",
   "metadata": {},
   "outputs": [
    {
     "name": "stdout",
     "output_type": "stream",
     "text": [
      "231\n"
     ]
    }
   ],
   "source": [
    "# Ans:\n",
    "def minimumDeleteSum(s1, s2):\n",
    "    m, n = len(s1), len(s2)\n",
    "    dp = [[0] * (n + 1) for _ in range(m + 1)]\n",
    "\n",
    "    # Initialize the last row and column\n",
    "    for i in range(m - 1, -1, -1):\n",
    "        dp[i][n] = dp[i+1][n] + ord(s1[i])\n",
    "\n",
    "    for j in range(n - 1, -1, -1):\n",
    "        dp[m][j] = dp[m][j+1] + ord(s2[j])\n",
    "\n",
    "    # Populate the dp array\n",
    "    for i in range(m - 1, -1, -1):\n",
    "        for j in range(n - 1, -1, -1):\n",
    "            if s1[i] == s2[j]:\n",
    "                dp[i][j] = dp[i+1][j+1]\n",
    "            else:\n",
    "                dp[i][j] = min(ord(s1[i]) + dp[i+1][j], ord(s2[j]) + dp[i][j+1])\n",
    "\n",
    "    return dp[0][0]\n",
    "\n",
    "s1 = \"sea\"\n",
    "s2 = \"eat\"\n",
    "result = minimumDeleteSum(s1, s2)\n",
    "print(result)  "
   ]
  },
  {
   "cell_type": "markdown",
   "id": "d5cc7c5e-5c28-4909-87d5-86964173d2b0",
   "metadata": {},
   "source": [
    "Q.2 Given a string s containing only three types of characters: '(', ')' and '*', return true *if* s *is **valid***.\n",
    "\n",
    "The following rules define a **valid** string:\n",
    "\n",
    "- Any left parenthesis '(' must have a corresponding right parenthesis ')'.\n",
    "- Any right parenthesis ')' must have a corresponding left parenthesis '('.\n",
    "- Left parenthesis '(' must go before the corresponding right parenthesis ')'.\n",
    "- '*' could be treated as a single right parenthesis ')' or a single left parenthesis '(' or an empty string \"\".\n",
    "\n",
    "**Example 1:**\n",
    "\n",
    "**Input:** s = \"()\"\n",
    "\n",
    "**Output:**\n",
    "\n",
    "true"
   ]
  },
  {
   "cell_type": "code",
   "execution_count": 3,
   "id": "8d7139b3-3f32-4360-a253-4d19d7843c04",
   "metadata": {},
   "outputs": [
    {
     "name": "stdout",
     "output_type": "stream",
     "text": [
      "True\n"
     ]
    }
   ],
   "source": [
    "# Ans:\n",
    "def checkValidString(s):\n",
    "    stack = []\n",
    "    star_stack = []\n",
    "    \n",
    "    for c in s:\n",
    "        if c == '(':\n",
    "            stack.append(c)\n",
    "        elif c == '*':\n",
    "            star_stack.append(c)\n",
    "        elif c == ')':\n",
    "            if stack:\n",
    "                stack.pop()\n",
    "            elif star_stack:\n",
    "                star_stack.pop()\n",
    "            else:\n",
    "                return False\n",
    "    \n",
    "    while stack and star_stack:\n",
    "        if stack[-1] > star_stack[-1]:\n",
    "            return False\n",
    "        stack.pop()\n",
    "        star_stack.pop()\n",
    "\n",
    "    return len(stack) == 0\n",
    "\n",
    "s = \"()\"\n",
    "result = checkValidString(s)\n",
    "print(result) "
   ]
  },
  {
   "cell_type": "markdown",
   "id": "6e63aeec-9062-4cde-85a2-b8d1b7a91875",
   "metadata": {},
   "source": [
    "Q.3 Given two strings word1 and word2, return *the minimum number of **steps** required to make* word1 *and* word2 *the same*.\n",
    "\n",
    "In one **step**, you can delete exactly one character in either string.\n",
    "\n",
    "**Example 1:**\n",
    "\n",
    "**Input:** word1 = \"sea\", word2 = \"eat\"\n",
    "\n",
    "**Output:** 2\n",
    "\n",
    "**Explanation:** You need one step to make \"sea\" to \"ea\" and another step to make \"eat\" to \"ea\"."
   ]
  },
  {
   "cell_type": "code",
   "execution_count": 4,
   "id": "7f7a72ae-8e51-44f4-8246-a43d2f06e69f",
   "metadata": {},
   "outputs": [
    {
     "name": "stdout",
     "output_type": "stream",
     "text": [
      "2\n"
     ]
    }
   ],
   "source": [
    "# Ans:\n",
    "def minSteps(word1, word2):\n",
    "    m, n = len(word1), len(word2)\n",
    "    dp = [[0] * (n + 1) for _ in range(m + 1)]\n",
    "\n",
    "    # Initialize the last row and column\n",
    "    for i in range(m - 1, -1, -1):\n",
    "        dp[i][n] = dp[i+1][n] + 1\n",
    "\n",
    "    for j in range(n - 1, -1, -1):\n",
    "        dp[m][j] = dp[m][j+1] + 1\n",
    "\n",
    "    # Populate the dp array\n",
    "    for i in range(m - 1, -1, -1):\n",
    "        for j in range(n - 1, -1, -1):\n",
    "            if word1[i] == word2[j]:\n",
    "                dp[i][j] = dp[i+1][j+1]\n",
    "            else:\n",
    "                dp[i][j] = 1 + min(dp[i+1][j], dp[i][j+1])\n",
    "\n",
    "    return dp[0][0]\n",
    "\n",
    "word1 = \"sea\"\n",
    "word2 = \"eat\"\n",
    "result = minSteps(word1, word2)\n",
    "print(result)  "
   ]
  },
  {
   "cell_type": "markdown",
   "id": "a6c9cce8-cfc9-4df8-af0d-5238dfeb4757",
   "metadata": {},
   "source": [
    "Q.4 You need to construct a binary tree from a string consisting of parenthesis and integers.\n",
    "\n",
    "The whole input represents a binary tree. It contains an integer followed by zero, one or two pairs of parenthesis. The integer represents the root's value and a pair of parenthesis contains a child binary tree with the same structure.\n",
    "You always start to construct the **left** child node of the parent first if it exists."
   ]
  },
  {
   "cell_type": "code",
   "execution_count": 24,
   "id": "54257d10-039d-49bd-a8d9-e4b4d6ec144c",
   "metadata": {},
   "outputs": [],
   "source": [
    "# Ans:\n",
    "def buildTree(s, start, end):\n",
    "    result = []\n",
    "\n",
    "    if start > end:\n",
    "        return result\n",
    "\n",
    "    # Locate root value\n",
    "    root = \"\"\n",
    "    while start <= end and s[start] != '(' and s[start] != ')':\n",
    "        root += s[start]\n",
    "        start += 1\n",
    "    result.append(int(root))\n",
    "\n",
    "    # No child nodes\n",
    "    if start == end + 1:\n",
    "        return result\n",
    "\n",
    "    # Find left and right substrings\n",
    "    left = start + 1\n",
    "    count = 1\n",
    "    right = None\n",
    "    for i in range(start + 1, end + 1):\n",
    "        if s[i] == '(':\n",
    "            count += 1\n",
    "        elif s[i] == ')':\n",
    "            count -= 1\n",
    "        if count == 0 and right is None:\n",
    "            right = i\n",
    "\n",
    "    # Process left and right substrings recursively\n",
    "    result.append(buildTree(s, left, right - 1))\n",
    "    result.append(buildTree(s, right + 1, end - 1))\n",
    "\n",
    "    return result\n",
    "\n",
    "def constructTreeFromString(s):\n",
    "    return buildTree(s, 0, len(s) - 1)\n",
    "\n",
    "# s = \"4(2(3)(1))(6(5))\"\n",
    "# result = constructTreeFromString(s)\n",
    "# print(result)"
   ]
  },
  {
   "cell_type": "markdown",
   "id": "f87a3ab9-d697-409a-84d7-f5392a729b41",
   "metadata": {},
   "source": [
    "Q.5 Given an array of characters chars, compress it using the following algorithm:\n",
    "\n",
    "Begin with an empty string s. For each group of **consecutive repeating characters** in chars:\n",
    "\n",
    "- If the group's length is 1, append the character to s.\n",
    "- Otherwise, append the character followed by the group's length.\n",
    "\n",
    "The compressed string s **should not be returned separately**, but instead, be stored **in the input character array chars**. Note that group lengths that are 10 or longer will be split into multiple characters in chars.\n",
    "\n",
    "After you are done **modifying the input array,** return *the new length of the array*.\n",
    "\n",
    "You must write an algorithm that uses only constant extra space.\n",
    "\n",
    "**Example 1:**\n",
    "\n",
    "**Input:** chars = [\"a\",\"a\",\"b\",\"b\",\"c\",\"c\",\"c\"]\n",
    "\n",
    "**Output:** Return 6, and the first 6 characters of the input array should be: [\"a\",\"2\",\"b\",\"2\",\"c\",\"3\"]\n",
    "\n",
    "**Explanation:**\n",
    "\n",
    "The groups are \"aa\", \"bb\", and \"ccc\". This compresses to \"a2b2c3\"."
   ]
  },
  {
   "cell_type": "code",
   "execution_count": 25,
   "id": "92d3a3fc-b174-40a4-98e7-accf7d11fa57",
   "metadata": {},
   "outputs": [
    {
     "name": "stdout",
     "output_type": "stream",
     "text": [
      "6\n",
      "['a', '2', 'b', '2', 'c', '3']\n"
     ]
    }
   ],
   "source": [
    "# Ans:\n",
    "def compress(chars):\n",
    "    write = 0\n",
    "    count = 1\n",
    "\n",
    "    for read in range(1, len(chars)):\n",
    "        if chars[read] == chars[read - 1]:\n",
    "            count += 1\n",
    "        else:\n",
    "            chars[write] = chars[read - 1]\n",
    "            write += 1\n",
    "            if count > 1:\n",
    "                count_str = str(count)\n",
    "                for digit in count_str:\n",
    "                    chars[write] = digit\n",
    "                    write += 1\n",
    "            count = 1\n",
    "\n",
    "    chars[write] = chars[-1]\n",
    "    write += 1\n",
    "    if count > 1:\n",
    "        count_str = str(count)\n",
    "        for digit in count_str:\n",
    "            chars[write] = digit\n",
    "            write += 1\n",
    "\n",
    "    return write\n",
    "\n",
    "chars = [\"a\", \"a\", \"b\", \"b\", \"c\", \"c\", \"c\"]\n",
    "length = compress(chars)\n",
    "print(length)  \n",
    "print(chars[:length])"
   ]
  },
  {
   "cell_type": "markdown",
   "id": "17623efd-5a94-445f-9067-69c28679a419",
   "metadata": {},
   "source": [
    "Q.6 Given two strings s and p, return *an array of all the start indices of* p*'s anagrams in* s. You may return the answer in **any order**.\n",
    "\n",
    "An **Anagram** is a word or phrase formed by rearranging the letters of a different word or phrase, typically using all the original letters exactly once.\n",
    "\n",
    "**Example 1:**\n",
    "\n",
    "**Input:** s = \"cbaebabacd\", p = \"abc\"\n",
    "\n",
    "**Output:** [0,6]\n",
    "\n",
    "**Explanation:**\n",
    "\n",
    "The substring with start index = 0 is \"cba\", which is an anagram of \"abc\".\n",
    "\n",
    "The substring with start index = 6 is \"bac\", which is an anagram of \"abc\"."
   ]
  },
  {
   "cell_type": "code",
   "execution_count": 20,
   "id": "8fdb282e-6a5c-49b8-9aed-c3cdb540afdb",
   "metadata": {},
   "outputs": [
    {
     "name": "stdout",
     "output_type": "stream",
     "text": [
      "[0, 6]\n"
     ]
    }
   ],
   "source": [
    "# Ans:\n",
    "from collections import Counter\n",
    "\n",
    "def findAnagrams(s, p):\n",
    "    result = []\n",
    "    p_count = Counter(p)\n",
    "    window_count = Counter()\n",
    "\n",
    "    left, right = 0, 0\n",
    "    while right < len(s):\n",
    "        window_count[s[right]] += 1\n",
    "\n",
    "        if right - left + 1 == len(p):\n",
    "            if window_count == p_count:\n",
    "                result.append(left)\n",
    "\n",
    "            window_count[s[left]] -= 1\n",
    "            if window_count[s[left]] == 0:\n",
    "                del window_count[s[left]]\n",
    "            left += 1\n",
    "\n",
    "        right += 1\n",
    "\n",
    "    return result\n",
    "\n",
    "s = \"cbaebabacd\"\n",
    "p = \"abc\"\n",
    "result = findAnagrams(s, p)\n",
    "print(result)  "
   ]
  },
  {
   "cell_type": "markdown",
   "id": "c07bfe7a-4faa-4411-be44-6e8db3f2a2f9",
   "metadata": {},
   "source": [
    "Q.7 Given an encoded string, return its decoded string.\n",
    "\n",
    "The encoding rule is: k[encoded_string], where the encoded_string inside the square brackets is being repeated exactly k times. Note that k is guaranteed to be a positive integer.\n",
    "\n",
    "You may assume that the input string is always valid; there are no extra white spaces, square brackets are well-formed, etc. Furthermore, you may assume that the original data does not contain any digits and that digits are only for those repeat numbers, k. For example, there will not be input like 3a or 2[4].\n",
    "\n",
    "The test cases are generated so that the length of the output will never exceed 105.\n",
    "\n",
    "**Example 1:**\n",
    "\n",
    "**Input:** s = \"3[a]2[bc]\"\n",
    "\n",
    "**Output:** \"aaabcbc\""
   ]
  },
  {
   "cell_type": "code",
   "execution_count": 22,
   "id": "673b7058-74c6-4b8f-a58a-9c080d7f3190",
   "metadata": {},
   "outputs": [
    {
     "name": "stdout",
     "output_type": "stream",
     "text": [
      "Ouput: aaabcbc\n"
     ]
    }
   ],
   "source": [
    "# Ans:\n",
    "def decodeString(s):\n",
    "    stack = []\n",
    "    current_str = ''\n",
    "    repetition_count = 0\n",
    "\n",
    "    for char in s:\n",
    "        if char.isdigit():\n",
    "            repetition_count = repetition_count * 10 + int(char)\n",
    "        elif char == '[':\n",
    "            stack.append((repetition_count, current_str))\n",
    "            repetition_count = 0\n",
    "            current_str = ''\n",
    "        elif char == ']':\n",
    "            prev_repetition_count, prev_str = stack.pop()\n",
    "            current_str = prev_str + current_str * prev_repetition_count\n",
    "        else:\n",
    "            current_str += char\n",
    "\n",
    "    return current_str\n",
    "\n",
    "s = \"3[a]2[bc]\"\n",
    "decoded_string = decodeString(s)\n",
    "print(\"Ouput:\",decoded_string) "
   ]
  },
  {
   "cell_type": "markdown",
   "id": "479aa916-f6ad-4e81-b6ec-f5aa696aee79",
   "metadata": {},
   "source": [
    "Q.8 Given two strings s and goal, return true *if you can swap two letters in* s *so the result is equal to* goal*, otherwise, return* false*.*\n",
    "\n",
    "Swapping letters is defined as taking two indices i and j (0-indexed) such that i != j and swapping the characters at s[i] and s[j].\n",
    "\n",
    "- For example, swapping at indices 0 and 2 in \"abcd\" results in \"cbad\".\n",
    "\n",
    "**Example 1:**\n",
    "\n",
    "**Input:** s = \"ab\", goal = \"ba\"\n",
    "\n",
    "**Output:** true\n",
    "\n",
    "**Explanation:** You can swap s[0] = 'a' and s[1] = 'b' to get \"ba\", which is equal to goal."
   ]
  },
  {
   "cell_type": "code",
   "execution_count": 23,
   "id": "c072045e-b312-4271-953c-da86e22068d8",
   "metadata": {},
   "outputs": [
    {
     "name": "stdout",
     "output_type": "stream",
     "text": [
      "True\n"
     ]
    }
   ],
   "source": [
    "# Ans:\n",
    "def buddyStrings(s, goal):\n",
    "    if s == goal:\n",
    "        return True\n",
    "\n",
    "    s_diff = []\n",
    "    goal_diff = []\n",
    "\n",
    "    for i in range(len(s)):\n",
    "        if s[i] != goal[i]:\n",
    "            s_diff.append(s[i])\n",
    "            goal_diff.append(goal[i])\n",
    "\n",
    "    if len(s_diff) != len(goal_diff) or len(s_diff) > 2:\n",
    "        return False\n",
    "\n",
    "    return len(s_diff) == 2 and s_diff == goal_diff[::-1]\n",
    "\n",
    "s = \"ab\"\n",
    "goal = \"ba\"\n",
    "result = buddyStrings(s, goal)\n",
    "print(result) "
   ]
  },
  {
   "cell_type": "code",
   "execution_count": null,
   "id": "e92d23f8-8718-41bc-8585-9d42d5bbe928",
   "metadata": {},
   "outputs": [],
   "source": []
  }
 ],
 "metadata": {
  "kernelspec": {
   "display_name": "Python 3 (ipykernel)",
   "language": "python",
   "name": "python3"
  },
  "language_info": {
   "codemirror_mode": {
    "name": "ipython",
    "version": 3
   },
   "file_extension": ".py",
   "mimetype": "text/x-python",
   "name": "python",
   "nbconvert_exporter": "python",
   "pygments_lexer": "ipython3",
   "version": "3.10.8"
  }
 },
 "nbformat": 4,
 "nbformat_minor": 5
}
