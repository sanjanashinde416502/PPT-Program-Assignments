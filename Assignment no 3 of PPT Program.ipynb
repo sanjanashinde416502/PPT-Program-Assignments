{
 "cells": [
  {
   "cell_type": "markdown",
   "id": "df45d00c-7103-4dce-90b7-ffd68ea5bec0",
   "metadata": {},
   "source": [
    "Q.1 Given an integer array nums of length n and an integer target, find three integers\n",
    "in nums such that the sum is closest to the target.<br>\n",
    "Return the sum of the three integers.<br>\n",
    "You may assume that each input would have exactly one solution.<br>\n",
    "Example 1:<br>\n",
    "Input: nums = [-1,2,1,-4], target = 1<br>\n",
    "Output: 2<br>\n",
    "Explanation: The sum that is closest to the target is 2. (-1 + 2 + 1 =\n",
    "2)"
   ]
  },
  {
   "cell_type": "code",
   "execution_count": 2,
   "id": "0f5b0e90-962c-4719-9781-bcf6c242a066",
   "metadata": {},
   "outputs": [
    {
     "name": "stdout",
     "output_type": "stream",
     "text": [
      "Output: 2\n"
     ]
    }
   ],
   "source": [
    "# Ans:\n",
    "def closest_Numbers_Sum(nums,target):\n",
    "    nums.sort()\n",
    "    no_sum=0\n",
    "    for i in range(len(nums)):\n",
    "        if nums[i]==target:\n",
    "            no_sum=nums[i]+nums[i-1]+nums[i+1]\n",
    "        \n",
    "        i==1\n",
    "    return no_sum\n",
    "    \n",
    "nums=[-1,2,1,-4]\n",
    "target = 1\n",
    "s=closest_Numbers_Sum(nums,target)\n",
    "print(\"Output:\",s)"
   ]
  },
  {
   "cell_type": "markdown",
   "id": "8f1221cd-e10b-4fa1-8541-e123e4dc7dcd",
   "metadata": {},
   "source": [
    "Q.2 Given an array nums of n integers, return an array of all the unique\n",
    "quadruplets<br>\n",
    "[nums[a], nums[b], nums[c], nums[d]] such that:<br>\n",
    "<pre>    ● 0 <= a, b, c, d < n\n",
    "    ● a, b, c, and d are distinct.\n",
    "    ● nums[a] + nums[b] + nums[c] + nums[d] == target</pre>\n",
    "You may return the answer in any order.<br>\n",
    "Example 1:<br>\n",
    "Input: nums = [1,0,-1,0,-2,2], target = 0<br>\n",
    "Output: [[-2,-1,1,2],[-2,0,0,2],[-1,0,0,1]]"
   ]
  },
  {
   "cell_type": "code",
   "execution_count": 13,
   "id": "88873bbe-6161-4206-865a-a94b02cdf5dc",
   "metadata": {},
   "outputs": [
    {
     "name": "stdout",
     "output_type": "stream",
     "text": [
      "Output: [[-2, -1, 1, 2], [-2, 0, 0, 2], [-1, 0, 0, 1]]\n"
     ]
    }
   ],
   "source": [
    "# Ans:\n",
    "def fourSum(nums, target):\n",
    "    nums.sort()\n",
    "    n = len(nums)\n",
    "    result = []\n",
    "\n",
    "    for i in range(n - 3):\n",
    "        if i > 0 and nums[i] == nums[i - 1]:\n",
    "            continue\n",
    "\n",
    "        for j in range(i + 1, n - 2):\n",
    "            if j > i + 1 and nums[j] == nums[j - 1]:\n",
    "                continue\n",
    "\n",
    "            left = j + 1\n",
    "            right = n - 1\n",
    "\n",
    "            while left < right:\n",
    "                currentSum = nums[i] + nums[j] + nums[left] + nums[right]\n",
    "\n",
    "                if currentSum == target:\n",
    "                    result.append([nums[i], nums[j], nums[left], nums[right]])\n",
    "\n",
    "                    left += 1\n",
    "                    right -= 1\n",
    "\n",
    "                    while left < right and nums[left] == nums[left - 1]:\n",
    "                        left += 1\n",
    "\n",
    "                    while left < right and nums[right] == nums[right + 1]:\n",
    "                        right -= 1\n",
    "\n",
    "                elif currentSum < target:\n",
    "                    left += 1\n",
    "                else:\n",
    "                    right -= 1\n",
    "\n",
    "    return result\n",
    "nums = [1, 0, -1, 0, -2, 2]\n",
    "target = 0\n",
    "\n",
    "print(\"Output:\",fourSum(nums, target))"
   ]
  },
  {
   "cell_type": "markdown",
   "id": "3b083ea7-1681-49ee-a981-7f845972ab10",
   "metadata": {},
   "source": [
    "Q.3 A permutation of an array of integers is an arrangement of its\n",
    "members into a\n",
    "sequence or linear order.<br>\n",
    "For example, for arr = [1,2,3], the following are all the permutations\n",
    "of arr:<br>\n",
    "[1,2,3], [1,3,2], [2, 1, 3], [2, 3, 1], [3,1,2], [3,2,1].<br>\n",
    "The next permutation of an array of integers is the next\n",
    "lexicographically greater\n",
    "permutation of its integer. More formally, if all the permutations of\n",
    "the array are\n",
    "sorted in one container according to their lexicographical order, then\n",
    "the next\n",
    "permutation of that array is the permutation that follows it in the\n",
    "sorted container.<br>\n",
    "If such an arrangement is not possible, the array must be rearranged\n",
    "as the<br>\n",
    "lowest possible order (i.e., sorted in ascending order).<br><pre>\n",
    "● For example, the next permutation of arr = [1,2,3] is [1,3,2].\n",
    "● Similarly, the next permutation of arr = [2,3,1] is [3,1,2].\n",
    "● While the next permutation of arr = [3,2,1] is [1,2,3] because [3,2,1]\n",
    "does not</pre>\n",
    "have a lexicographical larger rearrangement.<br>\n",
    "Given an array of integers nums, find the next permutation of nums.\n",
    "The replacement must be in place and use only constant extra\n",
    "memory.<br>\n",
    "Example 1:<br>\n",
    "Input: nums = [1,2,3]<br>\n",
    "Output: [1,3,2]"
   ]
  },
  {
   "cell_type": "code",
   "execution_count": 5,
   "id": "4aac3a6f-5d94-4a93-9c2a-fac99e1dcd27",
   "metadata": {},
   "outputs": [
    {
     "name": "stdout",
     "output_type": "stream",
     "text": [
      "Output: [1, 3, 2]\n"
     ]
    }
   ],
   "source": [
    "# Ans:\n",
    "def nextPermutation(nums):\n",
    "    # Finding first pair of adjacent elements \n",
    "    i=len(nums)-2\n",
    "    while i>=0 and nums[i]>=nums[i+1]:\n",
    "        i-=1\n",
    "    if i>=0:\n",
    "        # swap nums[i] with the smallest element larger than nums[i] to its right\n",
    "        j=len(nums)-1\n",
    "        while j>i and nums[j]<=nums[i]:\n",
    "            j-=1\n",
    "        nums[i],nums[j]=nums[j],nums[i]\n",
    "        \n",
    "    # reverse the subarray to the right of nums[i] (or sort it)\n",
    "    left, right= i+1 ,len(nums)-1\n",
    "    while left < right:\n",
    "        nums[left],nums[right] = nums[right], nums[left]\n",
    "        left +=1\n",
    "        right -=1\n",
    "    return nums\n",
    "\n",
    "nums = [1,2,3]\n",
    "print(\"Output:\",nextPermutation(nums))"
   ]
  },
  {
   "cell_type": "markdown",
   "id": "40d02070-4d89-4fb5-9c38-6ac42b56566a",
   "metadata": {},
   "source": [
    "Q.4 Given a sorted array of distinct integers and a target value, return the\n",
    "index if the\n",
    "target is found. If not, return the index where it would be if it were\n",
    "inserted in\n",
    "order.<br>\n",
    "You must write an algorithm with O(log n) runtime complexity.<br>\n",
    "Example 1:<br>\n",
    "Input: nums = [1,3,5,6], target = 5<br>\n",
    "Output: 2"
   ]
  },
  {
   "cell_type": "code",
   "execution_count": 6,
   "id": "926aca38-0e18-43d0-8912-6798ecce3702",
   "metadata": {},
   "outputs": [
    {
     "name": "stdout",
     "output_type": "stream",
     "text": [
      "Output: 2\n"
     ]
    }
   ],
   "source": [
    "def searchInsert(nums, target):\n",
    "    left = 0\n",
    "    right = len(nums) - 1\n",
    "\n",
    "    while left <= right:\n",
    "        mid = left + (right - left) // 2\n",
    "\n",
    "        if nums[mid] == target:\n",
    "            return mid\n",
    "        elif nums[mid] < target:\n",
    "            left = mid + 1\n",
    "        else:\n",
    "            right = mid - 1\n",
    "\n",
    "    return left\n",
    "\n",
    "nums = [1, 3, 5, 6]\n",
    "target = 5\n",
    "\n",
    "print(\"Output:\",searchInsert(nums, target))"
   ]
  },
  {
   "cell_type": "markdown",
   "id": "974ff415-3f75-433f-9299-f765def9eecb",
   "metadata": {},
   "source": [
    "Q.5 You are given a large integer represented as an integer array digits,\n",
    "where each\n",
    "digits[i] is the ith digit of the integer. The digits are ordered from\n",
    "most significant\n",
    "to least significant in left-to-right order. The large integer does not\n",
    "contain any\n",
    "leading 0's.<br>\n",
    "Increment the large integer by one and return the resulting array of\n",
    "digits.<br>\n",
    "Example 1:<br>\n",
    "Input: digits = [1,2,3]<br>\n",
    "Output: [1,2,4]<br>\n",
    "Explanation: The array represents the integer 123.<br>\n",
    "Incrementing by one gives 123 + 1 = 124.<br>\n",
    "Thus, the result should be [1,2,4]."
   ]
  },
  {
   "cell_type": "code",
   "execution_count": 12,
   "id": "50ef6edc-1358-4740-a489-baa458279cd3",
   "metadata": {},
   "outputs": [
    {
     "name": "stdout",
     "output_type": "stream",
     "text": [
      "Output: [1, 2, 4]\n"
     ]
    }
   ],
   "source": [
    "# Ans:\n",
    "def plusOne(digits):\n",
    "    carry = 1\n",
    "\n",
    "    for i in range(len(digits) - 1, -1, -1):\n",
    "        digits[i] += carry\n",
    "        if digits[i] < 10:\n",
    "            carry = 0\n",
    "            break\n",
    "        else:\n",
    "            digits[i] %= 10\n",
    "\n",
    "    if carry == 1:\n",
    "        digits.insert(0, 1)\n",
    "\n",
    "    return digits\n",
    "\n",
    "digits = [1, 2, 3]\n",
    "\n",
    "print(\"Output:\",plusOne(digits))\n"
   ]
  },
  {
   "cell_type": "markdown",
   "id": "f45f9a67-8d24-471a-821e-c41b78ccf0b7",
   "metadata": {},
   "source": [
    "Q.6 Given a non-empty array of integers nums, every element appears\n",
    "twice except\n",
    "for one. Find that single one.<br>\n",
    "You must implement a solution with a linear runtime complexity and\n",
    "use only<br>\n",
    "constant extra space.<br>\n",
    "Example 1:<br>\n",
    "Input: nums = [2,2,1]<br>\n",
    "Output: 1"
   ]
  },
  {
   "cell_type": "code",
   "execution_count": 9,
   "id": "5fdbc5cb-1287-4999-b383-0ee20c1e74dd",
   "metadata": {},
   "outputs": [
    {
     "name": "stdout",
     "output_type": "stream",
     "text": [
      "Output: 1\n"
     ]
    }
   ],
   "source": [
    "# Ans:\n",
    "def findSingleNumber(nums):\n",
    "    result = 0\n",
    "    for num in nums:\n",
    "        result ^= num\n",
    "    return result\n",
    "\n",
    "nums = [2, 2, 1]\n",
    "single_number = findSingleNumber(nums)\n",
    "print(\"Output:\",single_number)  "
   ]
  },
  {
   "cell_type": "markdown",
   "id": "542fa79e-8d44-4ddd-abcf-834cb29a767b",
   "metadata": {},
   "source": [
    "Q.7 You are given an inclusive range [lower, upper] and a sorted unique\n",
    "integer array\n",
    "nums, where all elements are within the inclusive range.<br>\n",
    "A number x is considered missing if x is in the range [lower, upper]\n",
    "and x is not in\n",
    "nums.<br>\n",
    "Return the shortest sorted list of ranges that exactly covers all the\n",
    "missing<br>\n",
    "numbers. That is, no element of nums is included in any of the\n",
    "ranges, and each\n",
    "missing number is covered by one of the ranges.<br>\n",
    "Example 1:<br>\n",
    "Input: nums = [0,1,3,50,75], lower = 0, upper = 99<br>\n",
    "Output: [[2,2],[4,49],[51,74],[76,99]]<br>\n",
    "Explanation: The ranges are:<br>\n",
    "[2,2]<br>\n",
    "[4,49]<br>\n",
    "[51,74]<br>\n",
    "[76 99]"
   ]
  },
  {
   "cell_type": "code",
   "execution_count": 11,
   "id": "d1746de6-5794-47fe-9c9e-6497dfc00299",
   "metadata": {},
   "outputs": [
    {
     "name": "stdout",
     "output_type": "stream",
     "text": [
      "Output: [[2, 2], [4, 49], [51, 74], [76, 99]]\n"
     ]
    }
   ],
   "source": [
    "# Ans:\n",
    "def findMissingRanges(nums, lower, upper):\n",
    "    result = []\n",
    "    start = lower\n",
    "\n",
    "    for num in nums:\n",
    "        if num == start:\n",
    "            start += 1\n",
    "        elif num > start:\n",
    "            result.append([start, num - 1])\n",
    "            start = num + 1\n",
    "\n",
    "    if start <= upper:\n",
    "        result.append([start, upper])\n",
    "\n",
    "    return result\n",
    "\n",
    "nums = [0, 1, 3, 50, 75]\n",
    "lower = 0\n",
    "upper = 99\n",
    "\n",
    "print(\"Output:\",findMissingRanges(nums, lower, upper))"
   ]
  },
  {
   "cell_type": "code",
   "execution_count": null,
   "id": "9f94d464-e2f3-4bed-aa74-f80e190b366e",
   "metadata": {},
   "outputs": [],
   "source": []
  }
 ],
 "metadata": {
  "kernelspec": {
   "display_name": "Python 3 (ipykernel)",
   "language": "python",
   "name": "python3"
  },
  "language_info": {
   "codemirror_mode": {
    "name": "ipython",
    "version": 3
   },
   "file_extension": ".py",
   "mimetype": "text/x-python",
   "name": "python",
   "nbconvert_exporter": "python",
   "pygments_lexer": "ipython3",
   "version": "3.10.8"
  }
 },
 "nbformat": 4,
 "nbformat_minor": 5
}
