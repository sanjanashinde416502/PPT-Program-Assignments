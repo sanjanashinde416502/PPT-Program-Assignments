{
 "cells": [
  {
   "cell_type": "markdown",
   "id": "e692f39b-012a-4f6b-aeed-8aa6f49f9d35",
   "metadata": {},
   "source": [
    "Q.1  Write a Python program to reverse a string without using any built-in string reversal functions."
   ]
  },
  {
   "cell_type": "code",
   "execution_count": 34,
   "id": "069456ff-5996-41a9-8a91-3730daa99cb1",
   "metadata": {},
   "outputs": [
    {
     "name": "stdout",
     "output_type": "stream",
     "text": [
      "Reversed String: sllikswp\n"
     ]
    }
   ],
   "source": [
    "# Ans:\n",
    "def reversed_String(input_string):\n",
    "    reversed_string=\"\"\n",
    "    for i in range(len(input_string)-1,-1,-1):\n",
    "        reverse_string+=input_string[i]\n",
    "    return reverse_string\n",
    "\n",
    "input_string=\"pwskills\"\n",
    "s=reversed_string\n",
    "print(\"Reversed String:\",s)"
   ]
  },
  {
   "cell_type": "markdown",
   "id": "e1c8a9a9-b63e-4b24-adf9-a873805ea2dd",
   "metadata": {},
   "source": [
    "Q.2 Implement a function to check if a given string is a palindrome."
   ]
  },
  {
   "cell_type": "code",
   "execution_count": 45,
   "id": "c4bc400f-5f1b-465f-b1d4-478c9d98360c",
   "metadata": {},
   "outputs": [
    {
     "name": "stdout",
     "output_type": "stream",
     "text": [
      "Output: Given string is palindrome\n"
     ]
    }
   ],
   "source": [
    "# Ans:\n",
    "def check_palindrome(Input_string):\n",
    "    reversed_string=Input_string[::-1]\n",
    "    if Input_string==reversed_string:\n",
    "        return \"Given string is palindrome\"\n",
    "    return False\n",
    "\n",
    "Input_string=\"sns\"\n",
    "s=check_palindrome(Input_string)\n",
    "print(\"Output:\",s)    "
   ]
  },
  {
   "cell_type": "markdown",
   "id": "907855e4-9838-485c-bdab-db4a6f873918",
   "metadata": {},
   "source": [
    "Q.3 Write a program to find the largest element in a given list"
   ]
  },
  {
   "cell_type": "code",
   "execution_count": 2,
   "id": "7963f292-78bf-486f-a452-67c3b9846dbb",
   "metadata": {},
   "outputs": [
    {
     "name": "stdout",
     "output_type": "stream",
     "text": [
      "Largest element: 5\n"
     ]
    }
   ],
   "source": [
    "# Ans:\n",
    "def larget_element(num):\n",
    "    l1=num[0]\n",
    "    for i in range(len(num)):\n",
    "        if l1<num[i]:\n",
    "            l1=num[i]\n",
    "    return l1\n",
    "\n",
    "num=[0,2,3,4,5]\n",
    "s=larget_element(num)\n",
    "print(\"Largest element:\",s)           "
   ]
  },
  {
   "cell_type": "markdown",
   "id": "14726dd5-88e2-47d7-a0bc-d9da6a4c635c",
   "metadata": {},
   "source": [
    "Q.4 Implement a function to count the occurrence of each element in a list."
   ]
  },
  {
   "cell_type": "code",
   "execution_count": 11,
   "id": "9d4aa15c-41d6-4c25-a2fe-8aeab99c5276",
   "metadata": {},
   "outputs": [
    {
     "data": {
      "text/plain": [
       "{1: 2, 2: 2, 3: 2, 4: 2, 5: 1}"
      ]
     },
     "execution_count": 11,
     "metadata": {},
     "output_type": "execute_result"
    }
   ],
   "source": [
    "# Ans:\n",
    "def check_occurance(element_list):\n",
    "    occurance_count={}\n",
    "    \n",
    "    for i in element_list:\n",
    "        if i in occurance_count:\n",
    "            occurance_count[i] += 1\n",
    "        else:\n",
    "            occurance_count[i]=1\n",
    "    return occurance_count\n",
    "\n",
    "element_list=[1,2,3,4,5,3,2,4,1]\n",
    "check_occurance(element_list)"
   ]
  },
  {
   "cell_type": "markdown",
   "id": "79c26a5e-27c4-436d-a91c-4844f586ffc4",
   "metadata": {},
   "source": [
    "Q.5 Write a Python program to find the second largest number in a list."
   ]
  },
  {
   "cell_type": "code",
   "execution_count": 18,
   "id": "8282cc2b-f65b-4b8c-bd17-10b50ea2887c",
   "metadata": {},
   "outputs": [
    {
     "name": "stdout",
     "output_type": "stream",
     "text": [
      "Second Largest Number: 4\n"
     ]
    }
   ],
   "source": [
    "# Ans:\n",
    "def findSecondLargets(num):\n",
    "    num.sort()\n",
    "    return num[len(num)-2]\n",
    "num=[1,3,2,4,6]\n",
    "s=findSecondLargets(num)\n",
    "print(\"Second Largest Number:\",s)"
   ]
  },
  {
   "cell_type": "markdown",
   "id": "507e0bae-5684-4bc9-b102-b4f99b4da817",
   "metadata": {},
   "source": [
    "Q.6  Implement a function to remove duplicate elements from a list."
   ]
  },
  {
   "cell_type": "code",
   "execution_count": 35,
   "id": "a4848fe7-c18b-4ecc-8c74-feb4d0fb2076",
   "metadata": {},
   "outputs": [
    {
     "name": "stdout",
     "output_type": "stream",
     "text": [
      "List without duplicates: [1, 2, 3, 4]\n"
     ]
    }
   ],
   "source": [
    "# Ans:\n",
    "def removeDuplicate(num):\n",
    "    s=set(num)\n",
    "    print(\"List without duplicates:\",list(s))\n",
    "\n",
    "num=[1,2,3,4,2,3,1,4]\n",
    "removeDuplicate(num)"
   ]
  },
  {
   "cell_type": "markdown",
   "id": "8c56bbb5-c734-4fbe-8589-18c29752d3fb",
   "metadata": {},
   "source": [
    "Q.7 Write a program to calculate the factorial of a given number."
   ]
  },
  {
   "cell_type": "code",
   "execution_count": 46,
   "id": "f8ea8197-7582-49cc-b2b2-361646ef55aa",
   "metadata": {},
   "outputs": [
    {
     "name": "stdout",
     "output_type": "stream",
     "text": [
      "Factorial of 4 is: 24\n"
     ]
    }
   ],
   "source": [
    "# Ans:\n",
    "def calculate_factorial(n):\n",
    "    if n<0:\n",
    "        return None\n",
    "    elif n==0:\n",
    "        return 1\n",
    "    else:\n",
    "        result=1\n",
    "        for i in range(1,n+1):\n",
    "            result*=i\n",
    "        return result\n",
    "        \n",
    "\n",
    "n=4\n",
    "s=calculate_factorial(number)\n",
    "print(\"Factorial of\",n,\"is:\",s)"
   ]
  },
  {
   "cell_type": "markdown",
   "id": "b4c4b745-6021-40f6-9611-e8e93d2a15a6",
   "metadata": {},
   "source": [
    "Q.8 Implement a function to check if a given number is prime"
   ]
  },
  {
   "cell_type": "code",
   "execution_count": 12,
   "id": "544b4d79-345a-4201-8009-8ac7c8b01f5c",
   "metadata": {},
   "outputs": [
    {
     "data": {
      "text/plain": [
       "'Given Number is not prime'"
      ]
     },
     "execution_count": 12,
     "metadata": {},
     "output_type": "execute_result"
    }
   ],
   "source": [
    "def is_prime(n):\n",
    "    if n <= 1:\n",
    "        return False\n",
    "\n",
    "    for i in range(2, n):\n",
    "        if n % i == 0:\n",
    "            return 'Given Number is not prime'\n",
    "\n",
    "    return 'Given Number is Prime'\n",
    "\n",
    "n=12\n",
    "is_prime(n)"
   ]
  },
  {
   "cell_type": "markdown",
   "id": "418b6a9e-2529-4d18-ac35-a34907a0e5d8",
   "metadata": {},
   "source": [
    "Q.9 Write a Python program to sort a list of integers in ascending order."
   ]
  },
  {
   "cell_type": "code",
   "execution_count": 13,
   "id": "37053975-283c-4fd3-a260-ace3948e1a16",
   "metadata": {},
   "outputs": [
    {
     "data": {
      "text/plain": [
       "[2, 3, 4, 5]"
      ]
     },
     "execution_count": 13,
     "metadata": {},
     "output_type": "execute_result"
    }
   ],
   "source": [
    "# Ans:\n",
    "def sort_integer_list(num):\n",
    "    for i in range(len(num)):\n",
    "        minimum=i\n",
    "        for j in range(i+1,len(num)):\n",
    "            if num[j]<num[minimum]:\n",
    "                minimum=j\n",
    "        num[i],num[minimum]=num[minimum],num[i]\n",
    "        \n",
    "    return num\n",
    "\n",
    "num=[2,5,4,3]\n",
    "sort_integer_list(num)"
   ]
  },
  {
   "cell_type": "markdown",
   "id": "d5024263-4422-4f6f-915e-fbedf659f8c1",
   "metadata": {},
   "source": [
    "Q.10 Implement a function to find the sum of all numbers in a list.\n"
   ]
  },
  {
   "cell_type": "code",
   "execution_count": 18,
   "id": "2e932566-a7b9-4409-8c26-4739532e72cb",
   "metadata": {},
   "outputs": [
    {
     "data": {
      "text/plain": [
       "14"
      ]
     },
     "execution_count": 18,
     "metadata": {},
     "output_type": "execute_result"
    }
   ],
   "source": [
    "# Ans:\n",
    "def find_sum_numbers(num):\n",
    "    sum_of_numbers=0\n",
    "    for i in range(len(num)):\n",
    "        sum_of_numbers+=num[i]\n",
    "        i+=1\n",
    "    return sum_of_numbers\n",
    "\n",
    "num=[2,5,4,3]\n",
    "find_sum_numbers(num)"
   ]
  },
  {
   "cell_type": "markdown",
   "id": "1995a181-afff-4534-969b-17e709543593",
   "metadata": {},
   "source": [
    "Q.11 Write a program to find the common elements between two lists.\n"
   ]
  },
  {
   "cell_type": "code",
   "execution_count": 7,
   "id": "af3083a2-db01-4628-9df1-11e6ca197c05",
   "metadata": {},
   "outputs": [
    {
     "name": "stdout",
     "output_type": "stream",
     "text": [
      "Common elements: [2, 4]\n"
     ]
    }
   ],
   "source": [
    "# Ans:\n",
    "def find_common_elements(num1,num2):\n",
    "    return list(set(num1) & set(num2))\n",
    "num1=[1,2,3,4]\n",
    "num2=[2,4,5]\n",
    "c=find_common_elements(num1,num2)\n",
    "print(\"Common elements:\",c)            "
   ]
  },
  {
   "cell_type": "markdown",
   "id": "7ab0993b-b166-4f7d-bb55-126046e91274",
   "metadata": {},
   "source": [
    "Q.12 Implement a function to check if a given string is an anagram of another string.\n"
   ]
  },
  {
   "cell_type": "code",
   "execution_count": 16,
   "id": "5ceaa194-78f4-41fb-9dc1-fdaf2d5f348d",
   "metadata": {},
   "outputs": [
    {
     "data": {
      "text/plain": [
       "'Given string is anagram of another string'"
      ]
     },
     "execution_count": 16,
     "metadata": {},
     "output_type": "execute_result"
    }
   ],
   "source": [
    "#Ans:\n",
    "def check_Anagram(string1,string2):\n",
    "    string1=string1.lower().replace(\" \",\"\")\n",
    "    string2=string2.lower().replace(\" \",\"\")\n",
    "    \n",
    "    if len(string1)!=len(string2):\n",
    "        return 'Given string is not anagram of another string'\n",
    "    \n",
    "    sorted_string1=sorted(string1)\n",
    "    sorted_string2=sorted(string2)\n",
    "    \n",
    "    \n",
    "    #return sorted_string1==sorted_string2\n",
    "    return 'Given string is anagram of another string'\n",
    "\n",
    "    \n",
    "string1=\"sanjana\"\n",
    "string2=\"anaanjs\"\n",
    "check_Anagram(string1,string2)"
   ]
  },
  {
   "cell_type": "markdown",
   "id": "8b515fec-73c8-4e0e-9688-354b7a198e9e",
   "metadata": {},
   "source": [
    "Q.13 Write a Python program to generate all permutations of a given string.\n"
   ]
  },
  {
   "cell_type": "code",
   "execution_count": 24,
   "id": "d6c96a3a-8f93-4d7d-a8de-2bcfd7ee1d2c",
   "metadata": {},
   "outputs": [
    {
     "name": "stdout",
     "output_type": "stream",
     "text": [
      "raj\n",
      "rja\n",
      "arj\n",
      "ajr\n",
      "jra\n",
      "jar\n"
     ]
    }
   ],
   "source": [
    "# Ans:\n",
    "def permute_string(string):\n",
    "    # Base case: if the string has only one character, return it as a single-item list\n",
    "    if len(string) == 1:\n",
    "        return [string]\n",
    "\n",
    "    # Recursive case: generate permutations by selecting each character and permuting the rest\n",
    "    permutations = []\n",
    "    for i in range(len(string)):\n",
    "        char = string[i]\n",
    "        remaining_chars = string[:i] + string[i+1:]\n",
    "        sub_permutations = permute_string(remaining_chars)\n",
    "        for sub_permutation in sub_permutations:\n",
    "            permutations.append(char + sub_permutation)\n",
    "\n",
    "    return permutations\n",
    "\n",
    "# Example usage:\n",
    "string = \"raj\"\n",
    "permutations = permute_string(string)\n",
    "for permutation in permutations:\n",
    "    print(permutation)"
   ]
  },
  {
   "cell_type": "markdown",
   "id": "a5a3c292-071a-4710-891e-4d58299e14bc",
   "metadata": {},
   "source": [
    "Q.14 Implement a function to calculate the Fibonacci sequence up to a given number of terms.\n"
   ]
  },
  {
   "cell_type": "code",
   "execution_count": 27,
   "id": "52e8a46b-2216-48f0-bee8-0a9124c03214",
   "metadata": {},
   "outputs": [
    {
     "data": {
      "text/plain": [
       "[0, 1, 1, 2, 3]"
      ]
     },
     "execution_count": 27,
     "metadata": {},
     "output_type": "execute_result"
    }
   ],
   "source": [
    "# Ans:\n",
    "def calculate_fibonacci(n):\n",
    "    fibinacci_sequence=[]\n",
    "    if n<=0:\n",
    "        return fibinacci_sequence\n",
    "    fibinacci_sequence.append(0)\n",
    "    \n",
    "    if n==1:\n",
    "        return fibinacci_sequence\n",
    "    fibinacci_sequence.append(1)\n",
    "    \n",
    "    if n==2:\n",
    "        return fibinacci_sequence\n",
    "    \n",
    "    for i in range(2,n):\n",
    "        next_term=fibinacci_sequence[i-1]+fibinacci_sequence[i-2]\n",
    "        fibinacci_sequence.append(next_term)\n",
    "    return fibinacci_sequence   \n",
    "\n",
    "n=5\n",
    "calculate_fibonacci(n)"
   ]
  },
  {
   "cell_type": "markdown",
   "id": "4c058fea-8834-40d6-99da-ec438754379d",
   "metadata": {},
   "source": [
    "Q.15 Write a program to find the median of a list of numbers."
   ]
  },
  {
   "cell_type": "code",
   "execution_count": 38,
   "id": "305ce951-4c55-4b4d-9eb7-a83c7549a740",
   "metadata": {},
   "outputs": [
    {
     "name": "stdout",
     "output_type": "stream",
     "text": [
      "median: 5\n"
     ]
    }
   ],
   "source": [
    "# Ans:\n",
    "def find_median(num):\n",
    "    sorted_num=sorted(num)\n",
    "    n=len(num)\n",
    "    mid_index=n//2\n",
    "    if n%2==1:\n",
    "        median=sorted_num[mid_index]\n",
    "        \n",
    "    else:\n",
    "        median=sorted_num[mid_index-1]+sorted_num[mid_index]/2\n",
    "        \n",
    "    return median\n",
    "    \n",
    "\n",
    "num=[2,5,3,7,8]\n",
    "s=find_median(num)\n",
    "print(\"median:\",s)"
   ]
  },
  {
   "cell_type": "markdown",
   "id": "7b7548df-c8ce-4c55-91c2-1a7d3dd2ce5a",
   "metadata": {},
   "source": [
    "Q.16 Implement a function to check if a given list is sorted in non-decreasing order."
   ]
  },
  {
   "cell_type": "code",
   "execution_count": 60,
   "id": "627eb2e7-438a-48d4-aea9-4c99776f2b1f",
   "metadata": {},
   "outputs": [
    {
     "data": {
      "text/plain": [
       "'given list is sorted in non-decreasing order.'"
      ]
     },
     "execution_count": 60,
     "metadata": {},
     "output_type": "execute_result"
    }
   ],
   "source": [
    "# Ans:\n",
    "def check_order(num):\n",
    "    for i in range(1,len(num)):\n",
    "        if num[i]<num[i-1]:\n",
    "            return 'given list is not sorted in non-decreasing order.'\n",
    "    \n",
    "\n",
    "    return 'given list is sorted in non-decreasing order.'\n",
    "        \n",
    "\n",
    "num=[1,2,3]\n",
    "check_order(num)"
   ]
  },
  {
   "cell_type": "markdown",
   "id": "f850a0af-9064-4731-abe9-b89c4778d41c",
   "metadata": {},
   "source": [
    "Q.17 Write a Python program to find the intersection of two lists.\n"
   ]
  },
  {
   "cell_type": "code",
   "execution_count": 62,
   "id": "80b19443-4445-4e24-9be5-a3221cba77ff",
   "metadata": {},
   "outputs": [
    {
     "name": "stdout",
     "output_type": "stream",
     "text": [
      "[4, 5]\n"
     ]
    }
   ],
   "source": [
    "def find_interaction(list1,list2):\n",
    "    set1=set(list1)\n",
    "    set2=set(list2)\n",
    "    interaction=set1.interaction(set2)\n",
    "    interaction_list=list(interaction)\n",
    "    return interaction_list\n",
    "\n",
    "list1 = [1, 2, 3, 4, 5]\n",
    "list2 = [4, 5, 6, 7, 8]\n",
    "intersection = find_intersection(list1, list2)\n",
    "print(intersection)"
   ]
  },
  {
   "cell_type": "markdown",
   "id": "6c14cfb5-8410-495a-8611-e7e2bb579215",
   "metadata": {},
   "source": [
    "Q.18 Implement a function to find the maximum subarray sum in a given list.\n"
   ]
  },
  {
   "cell_type": "code",
   "execution_count": 64,
   "id": "927c2f67-7b1b-4b34-8a98-1da7aa43178e",
   "metadata": {},
   "outputs": [
    {
     "name": "stdout",
     "output_type": "stream",
     "text": [
      "10\n"
     ]
    }
   ],
   "source": [
    "# Ans:\n",
    "def find_maximum_subarray_sum(numbers):\n",
    "    max_sum = 0  # Initialize max_sum as negative infinity\n",
    "    \n",
    "    # Iterate over the list\n",
    "    for i in range(len(numbers)):\n",
    "        current_sum = 0\n",
    "        \n",
    "        # Compute the sum of subarrays starting at index i\n",
    "        for j in range(i, len(numbers)):\n",
    "            current_sum += numbers[j]\n",
    "            \n",
    "            # Update max_sum if a higher sum is found\n",
    "            if current_sum > max_sum:\n",
    "                max_sum = current_sum\n",
    "    \n",
    "    return max_sum\n",
    "\n",
    "# Example usage:\n",
    "numbers = [2, 3, 4, 1]\n",
    "maximum_subarray_sum = find_maximum_subarray_sum(numbers)\n",
    "print(maximum_subarray_sum)"
   ]
  },
  {
   "cell_type": "markdown",
   "id": "1316ce5e-df7a-44d2-84b1-c9a1c982ac07",
   "metadata": {},
   "source": [
    "Q.19  Write a program to remove all vowels from a given string.\n"
   ]
  },
  {
   "cell_type": "code",
   "execution_count": 70,
   "id": "543ff4ca-e6e9-46dd-bd96-646159c705c1",
   "metadata": {},
   "outputs": [
    {
     "name": "stdout",
     "output_type": "stream",
     "text": [
      "sn\n"
     ]
    }
   ],
   "source": [
    "# Ans:\n",
    "def remove_vowels(string):\n",
    "    vowels=['a','i','o','u','e','A','E','I','O','U']\n",
    "    s=\"\"\n",
    "    for i in string:\n",
    "        if i not in vowels:\n",
    "            s+=i\n",
    "    return s\n",
    "    \n",
    "string=\"san\"\n",
    "a=remove_vowels(string)\n",
    "print(a)       "
   ]
  },
  {
   "cell_type": "markdown",
   "id": "8d2cddf4-b39e-44df-b14f-63da1c023af5",
   "metadata": {},
   "source": [
    "Q.20 Implement a function to reverse the order of words in a given sentence."
   ]
  },
  {
   "cell_type": "code",
   "execution_count": 73,
   "id": "f6617174-ee70-4a3c-9b22-bd636c05e709",
   "metadata": {},
   "outputs": [
    {
     "name": "stdout",
     "output_type": "stream",
     "text": [
      "world! Hello,\n"
     ]
    }
   ],
   "source": [
    "def reverse_order(sentence):\n",
    "    words=sentence.split()\n",
    "    reversed_words=words[::-1]\n",
    "    reversed_sentence=' '.join(reversed_words)\n",
    "    return reversed_sentence\n",
    "\n",
    "sentence = \"Hello, world!\"\n",
    "reversed_sentence = reverse_sentence(sentence)\n",
    "print(reversed_sentence)"
   ]
  },
  {
   "cell_type": "markdown",
   "id": "6625f30c-3d59-4d2b-9bbd-636e7e1b0091",
   "metadata": {},
   "source": [
    "Q.21 Write a Python program to check if two strings are anagrams of each other.\n"
   ]
  },
  {
   "cell_type": "code",
   "execution_count": 1,
   "id": "e9ca85e9-6ed7-4e58-8158-3723c74223bb",
   "metadata": {},
   "outputs": [
    {
     "name": "stdout",
     "output_type": "stream",
     "text": [
      "listen and silent are anagrams.\n"
     ]
    }
   ],
   "source": [
    "# ans:\n",
    "def are_anagrams(str1, str2):\n",
    "    # Convert both strings to lowercase and remove whitespace\n",
    "    str1 = str1.lower().replace(\" \", \"\")\n",
    "    str2 = str2.lower().replace(\" \", \"\")\n",
    "\n",
    "    # Check if the lengths of the strings are equal\n",
    "    if len(str1) != len(str2):\n",
    "        return False\n",
    "\n",
    "    # Create dictionaries to count the frequency of characters in both strings\n",
    "    count1 = {}\n",
    "    count2 = {}\n",
    "\n",
    "    # Count the frequency of characters in the first string\n",
    "    for char in str1:\n",
    "        count1[char] = count1.get(char, 0) + 1\n",
    "\n",
    "    # Count the frequency of characters in the second string\n",
    "    for char in str2:\n",
    "        count2[char] = count2.get(char, 0) + 1\n",
    "\n",
    "    # Check if the dictionaries are equal\n",
    "    return count1 == count2\n",
    "\n",
    "# Example usage:\n",
    "string1 = \"listen\"\n",
    "string2 = \"silent\"\n",
    "\n",
    "if are_anagrams(string1, string2):\n",
    "    print(f\"{string1} and {string2} are anagrams.\")\n",
    "else:\n",
    "    print(f\"{string1} and {string2} are not anagrams.\")"
   ]
  },
  {
   "cell_type": "markdown",
   "id": "21819d4e-88c0-4eec-924e-b338c9417d01",
   "metadata": {},
   "source": [
    "Q.22 Implement a function to find the first non-repeating character in a string.\n"
   ]
  },
  {
   "cell_type": "code",
   "execution_count": 12,
   "id": "17b4a079-2f5b-48cc-b039-64ca19fe6700",
   "metadata": {},
   "outputs": [
    {
     "name": "stdout",
     "output_type": "stream",
     "text": [
      " first non-repeating character in a string: s\n"
     ]
    }
   ],
   "source": [
    "# Ans:\n",
    "def find_non_repetingCharacter(string):\n",
    "    str1={}\n",
    "    for char in string:\n",
    "        str1[char]=str1.get(char,0)+1\n",
    "    for i in string:\n",
    "        if str1[i] ==1:\n",
    "            return i\n",
    "        \n",
    "string=\"sana\"\n",
    "a=find_non_repetingCharacter(string)\n",
    "print(\" first non-repeating character in a string:\",a)"
   ]
  },
  {
   "cell_type": "markdown",
   "id": "20bcb0b1-71d0-49d3-97e3-a3f8367fcdc1",
   "metadata": {},
   "source": [
    "Q.23 Write a program to find the prime factors of a given number.\n"
   ]
  },
  {
   "cell_type": "code",
   "execution_count": 16,
   "id": "65b15196-e980-4785-93fb-c77d68a4c4d6",
   "metadata": {},
   "outputs": [
    {
     "name": "stdout",
     "output_type": "stream",
     "text": [
      "The prime factors of 52 are: [2, 2, 13]\n"
     ]
    }
   ],
   "source": [
    "# Ans:\n",
    "def find_prime_factors(number):\n",
    "    factors = []\n",
    "    divisor = 2\n",
    "\n",
    "    while divisor <= number:\n",
    "        if number % divisor == 0:\n",
    "            factors.append(divisor)\n",
    "            number = number / divisor\n",
    "        else:\n",
    "            divisor += 1\n",
    "\n",
    "    return factors\n",
    "\n",
    "input_number = 52\n",
    "prime_factors = find_prime_factors(input_number)\n",
    "\n",
    "print(f\"The prime factors of {input_number} are: {prime_factors}\")"
   ]
  },
  {
   "cell_type": "markdown",
   "id": "1128fb1f-2cf8-4c92-a7b4-38a5fbd7e4ea",
   "metadata": {},
   "source": [
    "Q.24 Implement a function to check if a given number is a power of two."
   ]
  },
  {
   "cell_type": "code",
   "execution_count": 17,
   "id": "8deb5faf-17d5-4407-ab9f-251081cf234f",
   "metadata": {},
   "outputs": [
    {
     "name": "stdout",
     "output_type": "stream",
     "text": [
      "16 is a power of two.\n"
     ]
    }
   ],
   "source": [
    "# Ans:\n",
    "def is_power_of_two(number):\n",
    "    # base case condition\n",
    "    if number == 0:\n",
    "        return False\n",
    "\n",
    "    # Check if the number is a power of two\n",
    "    while number != 1:\n",
    "        # If the number is not divisible by 2, it's not a power of two\n",
    "        if number % 2 != 0:\n",
    "            return False\n",
    "        number = number // 2\n",
    "\n",
    "    return True\n",
    "\n",
    "# Example usage:\n",
    "input_number = 16\n",
    "if is_power_of_two(input_number):\n",
    "    print(f\"{input_number} is a power of two.\")\n",
    "else:\n",
    "    print(f\"{input_number} is not a power of two.\")"
   ]
  },
  {
   "cell_type": "markdown",
   "id": "cce11002-9aab-483a-aea1-5314484d8e23",
   "metadata": {},
   "source": [
    "Q.25 Write a Python program to merge two sorted lists into a single sorted list.\n"
   ]
  },
  {
   "cell_type": "code",
   "execution_count": 24,
   "id": "858f0ad7-9c2f-419b-93e2-915ce5b2b1dc",
   "metadata": {},
   "outputs": [
    {
     "data": {
      "text/plain": [
       "[2, 4, 5, 7, 8]"
      ]
     },
     "execution_count": 24,
     "metadata": {},
     "output_type": "execute_result"
    }
   ],
   "source": [
    "def merge_lists(list1,list2):\n",
    "    list3=[]\n",
    "    list1.sort()\n",
    "    list2.sort()\n",
    "    list3=list1+list2\n",
    "    list3=list(set(list3))\n",
    "    list3.sort()\n",
    "    #list3=list(set(list1) or set(list2))\n",
    "    return list3\n",
    "\n",
    "list1=[2,7,4,5]\n",
    "list2=[5,4,8,7]\n",
    "merge_lists(list1,list2)"
   ]
  },
  {
   "cell_type": "markdown",
   "id": "cfbce90b-7ce3-4c3e-8fb4-698cb9f6424c",
   "metadata": {},
   "source": [
    "Q.26 Implement a function to find the mode of a list of numbers.\n"
   ]
  },
  {
   "cell_type": "code",
   "execution_count": 27,
   "id": "85e224fe-76b4-446d-aa86-57ad1866c928",
   "metadata": {},
   "outputs": [
    {
     "name": "stdout",
     "output_type": "stream",
     "text": [
      "The mode is: 5\n"
     ]
    }
   ],
   "source": [
    "# Ans:\n",
    "from collections import Counter\n",
    "\n",
    "def find_mode(numbers):\n",
    "    # Use Counter to count the frequency of each number\n",
    "    counter = Counter(numbers)\n",
    "\n",
    "    # Find the maximum count\n",
    "    max_count = max(counter.values())\n",
    "\n",
    "    # Find all numbers with the maximum count (modes)\n",
    "    modes = [num for num, count in counter.items() if count == max_count]\n",
    "\n",
    "    return modes\n",
    "\n",
    "# Example usage:\n",
    "number_list = [1, 2, 3, 4, 4, 5, 5, 5, 6]\n",
    "modes = find_mode(number_list)\n",
    "\n",
    "if len(modes) > 1:\n",
    "    print(\"The modes are:\", modes)\n",
    "else:\n",
    "    print(\"The mode is:\", modes[0])"
   ]
  },
  {
   "cell_type": "markdown",
   "id": "fd7c474e-143b-48b9-b390-32ca85848a7b",
   "metadata": {},
   "source": [
    "Q.27         Write a program to find the greatest common divisor (GCD) of two numbers."
   ]
  },
  {
   "cell_type": "code",
   "execution_count": 30,
   "id": "07c4988d-5e04-4301-a3eb-172dc1c30b71",
   "metadata": {},
   "outputs": [
    {
     "name": "stdout",
     "output_type": "stream",
     "text": [
      "The GCD of 4 and 51 is: 1\n"
     ]
    }
   ],
   "source": [
    "# Ans:\n",
    "def find_gcd(a, b):\n",
    "    while b != 0:\n",
    "        temp = b\n",
    "        b = a % b\n",
    "        a = temp\n",
    "    return a\n",
    "\n",
    "# Example usage:\n",
    "number1 = 4\n",
    "number2 = 51\n",
    "gcd = find_gcd(number1, number2)\n",
    "\n",
    "print(f\"The GCD of {number1} and {number2} is: {gcd}\")"
   ]
  },
  {
   "cell_type": "markdown",
   "id": "8bbfa26f-e632-459d-9c04-db5e05b91fa3",
   "metadata": {},
   "source": [
    "Q.28 Implement a function to calculate the square root of a given number.\n"
   ]
  },
  {
   "cell_type": "code",
   "execution_count": 31,
   "id": "e82f9a19-ee3e-4b1e-bbf1-e85af1d66d00",
   "metadata": {},
   "outputs": [
    {
     "name": "stdout",
     "output_type": "stream",
     "text": [
      "The square root of 16 is: 4.0\n"
     ]
    }
   ],
   "source": [
    "# ans:\n",
    "def calculate_square_root(number):\n",
    "    if number < 0:\n",
    "        raise ValueError(\"Cannot calculate square root of a negative number.\")\n",
    "\n",
    "    if number == 0:\n",
    "        return 0\n",
    "\n",
    "    # Initial guess for the square root\n",
    "    guess = number / 2\n",
    "\n",
    "    # Iterate until the guess is close enough to the actual square root\n",
    "    while True:\n",
    "        new_guess = (guess + number / guess) / 2\n",
    "        if abs(guess - new_guess) < 1e-9:\n",
    "            break\n",
    "        guess = new_guess\n",
    "\n",
    "    return new_guess\n",
    "\n",
    "# Example usage:\n",
    "input_number = 16\n",
    "square_root = calculate_square_root(input_number)\n",
    "\n",
    "print(f\"The square root of {input_number} is: {square_root}\")"
   ]
  },
  {
   "cell_type": "markdown",
   "id": "c1954e1f-d6e9-459c-bd75-3d594f475484",
   "metadata": {},
   "source": [
    "Q.29 Write a Python program to check if a given string is a valid palindrome ignoring non-alphanumeric characters."
   ]
  },
  {
   "cell_type": "code",
   "execution_count": 33,
   "id": "822cec90-8653-4627-8e2c-f566425c7e5a",
   "metadata": {},
   "outputs": [
    {
     "name": "stdout",
     "output_type": "stream",
     "text": [
      "The string 'A man, a plan, a canal, Panama!' is a valid palindrome.\n"
     ]
    }
   ],
   "source": [
    "# Ans:\n",
    "import re\n",
    "\n",
    "def is_valid_palindrome(string):\n",
    "    # Remove non-alphanumeric characters and convert to lowercase\n",
    "    alphanumeric_string = re.sub(r'[^a-zA-Z0-9]', '', string.lower())\n",
    "\n",
    "    # Check if the alphanumeric string is a palindrome\n",
    "    return alphanumeric_string == alphanumeric_string[::-1]\n",
    "\n",
    "# Example usage:\n",
    "input_string = \"A man, a plan, a canal, Panama!\"\n",
    "if is_valid_palindrome(input_string):\n",
    "    print(f\"The string '{input_string}' is a valid palindrome.\")\n",
    "else:\n",
    "    print(f\"The string '{input_string}' is not a valid palindrome.\")"
   ]
  },
  {
   "cell_type": "markdown",
   "id": "a40a8d82-0d03-42f3-8801-cd4ea58decc0",
   "metadata": {},
   "source": [
    "Q.30 Implement a function to find the minimum element in a rotated sorted list.\n"
   ]
  },
  {
   "cell_type": "code",
   "execution_count": 35,
   "id": "36a98a0e-02f9-457f-9c0c-73d99fdcef1b",
   "metadata": {},
   "outputs": [
    {
     "name": "stdout",
     "output_type": "stream",
     "text": [
      "The minimum element in the rotated sorted list is: 1\n"
     ]
    }
   ],
   "source": [
    "# Ans:\n",
    "def find_minimum_element(nums):\n",
    "    left = 0\n",
    "    right = len(nums) - 1\n",
    "\n",
    "    while left < right:\n",
    "        mid = left + (right - left) // 2\n",
    "\n",
    "        # If mid element is greater than the rightmost element, the minimum element is in the right half\n",
    "        if nums[mid] > nums[right]:\n",
    "            left = mid + 1\n",
    "        # If mid element is less than the rightmost element, the minimum element is in the left half or it could be the mid element itself\n",
    "        else:\n",
    "            right = mid\n",
    "\n",
    "    # The left index will eventually point to the minimum element\n",
    "    return nums[left]\n",
    "\n",
    "# Example usage:\n",
    "rotated_sorted_list = [4, 5, 6, 7,1, 2]\n",
    "minimum_element = find_minimum_element(rotated_sorted_list)\n",
    "\n",
    "print(f\"The minimum element in the rotated sorted list is: {minimum_element}\")"
   ]
  },
  {
   "cell_type": "markdown",
   "id": "f9bf2bc3-b4c2-4963-943c-8c1a7f042194",
   "metadata": {},
   "source": [
    "Q.31 Write a program to find the sum of all even numbers in a list.\n"
   ]
  },
  {
   "cell_type": "code",
   "execution_count": 5,
   "id": "b34ee8e3-69be-4d4b-98f6-652ad93326b4",
   "metadata": {},
   "outputs": [
    {
     "data": {
      "text/plain": [
       "6"
      ]
     },
     "execution_count": 5,
     "metadata": {},
     "output_type": "execute_result"
    }
   ],
   "source": [
    "# Ans:\n",
    "def sum_of_evenNumbers(nums):\n",
    "    sum_of_numbers=0\n",
    "    for i in range(len(nums)):\n",
    "        if nums[i]%2==0:\n",
    "            sum_of_numbers+=nums[i]\n",
    "    return sum_of_numbers\n",
    "        \n",
    "        \n",
    "nums=[2,3,4]\n",
    "sum_of_evenNumbers(nums)"
   ]
  },
  {
   "cell_type": "markdown",
   "id": "d428d2d4-17a0-447e-bc58-abac2f7942d8",
   "metadata": {},
   "source": [
    "Q.32 Implement a function to calculate the power of a number using recursion"
   ]
  },
  {
   "cell_type": "code",
   "execution_count": 9,
   "id": "9a9a2889-c096-4b28-a465-75cace7cb042",
   "metadata": {},
   "outputs": [
    {
     "data": {
      "text/plain": [
       "9"
      ]
     },
     "execution_count": 9,
     "metadata": {},
     "output_type": "execute_result"
    }
   ],
   "source": [
    "# Ans:\n",
    "def power(base, exponent):\n",
    "    if exponent == 0:\n",
    "        return 1\n",
    "    elif exponent < 0:\n",
    "        return 1 / power(base, -exponent)\n",
    "    else:\n",
    "        return base**exponent\n",
    "    \n",
    "base=3\n",
    "exponent=2\n",
    "power(base, exponent)"
   ]
  },
  {
   "cell_type": "markdown",
   "id": "280f5e03-76a7-478e-9b94-61fdeffd28ac",
   "metadata": {},
   "source": [
    "Q.33. Write a Python program to remove duplicates from a list while preserving the order."
   ]
  },
  {
   "cell_type": "code",
   "execution_count": 48,
   "id": "92f545fb-fafe-4492-99d4-0840963f478f",
   "metadata": {},
   "outputs": [
    {
     "name": "stdout",
     "output_type": "stream",
     "text": [
      "[1, 2, 3, 4, 5, 6]\n"
     ]
    }
   ],
   "source": [
    "def remove_duplicates(lst):\n",
    "    return list(set(my_list))\n",
    "\n",
    "my_list = [1, 2, 3, 2, 4, 3, 5, 6, 1]\n",
    "print(remove_duplicates(my_list))"
   ]
  },
  {
   "cell_type": "markdown",
   "id": "3d779aac-57b0-4d69-9959-a22590fc0f6e",
   "metadata": {},
   "source": [
    "Q.34 Implement a function to find the longest common prefix among a list of strings.\n"
   ]
  },
  {
   "cell_type": "code",
   "execution_count": 23,
   "id": "c1dadce2-bd84-4dcb-8d1e-1199acc97156",
   "metadata": {},
   "outputs": [
    {
     "name": "stdout",
     "output_type": "stream",
     "text": [
      "fl\n"
     ]
    }
   ],
   "source": [
    "# Ans:\n",
    "def find_logest_common_prefix(string):\n",
    "    if not string:\n",
    "        return \"\"\n",
    "    shortest=min(string,key=len)\n",
    "    for i ,char in enumerate(shortest):\n",
    "        for other in string:\n",
    "            if other[i]!=char:\n",
    "                return shortest[:i]\n",
    "    return shortest\n",
    "\n",
    "string = [\"flower\", \"flow\", \"flight\"]\n",
    "print(find_logest_common_prefix(string))"
   ]
  },
  {
   "cell_type": "markdown",
   "id": "5c7130a4-599f-4f0a-aaf2-ae901fcd7b7b",
   "metadata": {},
   "source": [
    "Q.35 Write a program to check if a given number is a perfect square.\n"
   ]
  },
  {
   "cell_type": "code",
   "execution_count": 11,
   "id": "5b3f5eff-a2c0-4e6e-ba76-6e9327142d44",
   "metadata": {},
   "outputs": [
    {
     "name": "stdout",
     "output_type": "stream",
     "text": [
      "25 is a perfect square.\n"
     ]
    }
   ],
   "source": [
    "# Ans:\n",
    "def is_perfect_square(num):\n",
    "    if num < 0:\n",
    "        return False\n",
    "\n",
    "    root = int(num ** 0.5)\n",
    "    return root * root == num\n",
    "\n",
    "\n",
    "# Example usage:\n",
    "number = 25\n",
    "result = is_perfect_square(number)\n",
    "if result:\n",
    "    print(f\"{number} is a perfect square.\")\n",
    "else:\n",
    "    print(f\"{number} is not a perfect square.\")\n",
    "    "
   ]
  },
  {
   "cell_type": "markdown",
   "id": "a5202350-d4a5-462c-b4c1-5be181bd2013",
   "metadata": {},
   "source": [
    "Q.36 Implement a function to calculate the product of all elements in a list.\n"
   ]
  },
  {
   "cell_type": "code",
   "execution_count": 28,
   "id": "4577192b-c12a-4c96-847f-5e55ebd06b7d",
   "metadata": {},
   "outputs": [
    {
     "data": {
      "text/plain": [
       "120"
      ]
     },
     "execution_count": 28,
     "metadata": {},
     "output_type": "execute_result"
    }
   ],
   "source": [
    "# ans:\n",
    "def calculate_product_of_elements(list1):\n",
    "    product=1\n",
    "    for i in range(len(list1)):\n",
    "        product*=list1[i]\n",
    "    return product\n",
    "\n",
    "list1=[1,3,5,2,4]\n",
    "calculate_product_of_elements(list1)"
   ]
  },
  {
   "cell_type": "markdown",
   "id": "451e3934-6b00-4522-9d8f-78d3432a90bf",
   "metadata": {},
   "source": [
    "Q.37 Write a Python program to reverse the order of words in a sentence while preserving the word order.\n"
   ]
  },
  {
   "cell_type": "code",
   "execution_count": 34,
   "id": "20220051-2cf0-446b-92ee-75973c492f3e",
   "metadata": {},
   "outputs": [
    {
     "name": "stdout",
     "output_type": "stream",
     "text": [
      "world! Hello,\n"
     ]
    }
   ],
   "source": [
    "# Ans:\n",
    "def reverse_order(sentence):\n",
    "\n",
    "    words=sentence.split()\n",
    "    reversed_words=words[::-1]\n",
    "    reversed_sentence=' '.join(reversed_words)\n",
    "    return reversed_sentence\n",
    "\n",
    "sentence = \"Hello, world!\"\n",
    "reversed_sentence = reverse_order(sentence)\n",
    "print(reversed_sentence)"
   ]
  },
  {
   "cell_type": "markdown",
   "id": "a70920ea-ac65-463c-bda4-c6eaf6911e2f",
   "metadata": {},
   "source": [
    "Q.38 Implement a function to find the missing number in a given list of consecutive numbers.\n"
   ]
  },
  {
   "cell_type": "code",
   "execution_count": 38,
   "id": "ed6f214f-1fca-4351-8dda-0b7a3a6f02a2",
   "metadata": {},
   "outputs": [
    {
     "name": "stdout",
     "output_type": "stream",
     "text": [
      "2\n"
     ]
    }
   ],
   "source": [
    "# Ans:\n",
    "def findMissing(arr, n):\n",
    " \n",
    "    l, h = 0, n - 1\n",
    "    mid = 0\n",
    " \n",
    "    while (h > l):\n",
    " \n",
    "        mid = l + (h - l) // 2\n",
    " \n",
    "        # Check if middle element is consistent\n",
    "        if (arr[mid] - mid == arr[0]):\n",
    " \n",
    "            if (arr[mid + 1] - arr[mid] > 1):\n",
    "                return arr[mid] + 1\n",
    "            else:\n",
    " \n",
    "                # Move right\n",
    "                l = mid + 1\n",
    "             \n",
    "        else:\n",
    "            if (arr[mid] - arr[mid - 1] > 1):\n",
    "                return arr[mid] - 1\n",
    "            else:\n",
    " \n",
    "                # Move left\n",
    "                h = mid - 1\n",
    "             \n",
    "    # No missing element found\n",
    "    return -1\n",
    " \n",
    "# Driver code\n",
    "arr = [1,3,4,5]\n",
    "n = len(arr)\n",
    " \n",
    "print(findMissing(arr, n))"
   ]
  },
  {
   "cell_type": "markdown",
   "id": "4f54ce98-3b0f-44be-ba75-92e41bce4791",
   "metadata": {},
   "source": [
    "Q.39 Write a program to find the sum of digits of a given number."
   ]
  },
  {
   "cell_type": "code",
   "execution_count": 47,
   "id": "6db93c84-ec20-43e5-b6af-a57737900c62",
   "metadata": {},
   "outputs": [
    {
     "data": {
      "text/plain": [
       "6"
      ]
     },
     "execution_count": 47,
     "metadata": {},
     "output_type": "execute_result"
    }
   ],
   "source": [
    "def find_sum_of_digits(n):\n",
    "    sum_of_number=0\n",
    "    for i in range(n):\n",
    "        rem=n%10\n",
    "        sum_of_number+=rem\n",
    "        n=n//10\n",
    "        i+=1\n",
    "    return sum_of_number\n",
    "\n",
    "n=123\n",
    "find_sum_of_digits(n)"
   ]
  },
  {
   "cell_type": "markdown",
   "id": "12bc8e97-5b9e-4f9d-ade2-aa14ba4ae0f9",
   "metadata": {},
   "source": [
    "Q.40 Implement a function to check if a given string is a valid palindrome considering case sensitivity.\n"
   ]
  },
  {
   "cell_type": "code",
   "execution_count": 52,
   "id": "db0e7265-cf5d-46a9-b0ed-db7dbb9a21e4",
   "metadata": {},
   "outputs": [
    {
     "name": "stdout",
     "output_type": "stream",
     "text": [
      "Yes\n"
     ]
    }
   ],
   "source": [
    "# Ans:\n",
    "def isPalindrome(s):\n",
    "    return s == s[::-1]\n",
    " \n",
    "\n",
    "s = \"malayalam\"\n",
    "ans = isPalindrome(s)\n",
    " \n",
    "if ans:\n",
    "    print(\"Yes\")\n",
    "else:\n",
    "    print(\"No\")"
   ]
  },
  {
   "cell_type": "markdown",
   "id": "ff05c791-adb8-4d08-9a4b-a8365785809c",
   "metadata": {},
   "source": [
    "Q.41 Write a Python program to find the smallest missing positive integer in a list.\n"
   ]
  },
  {
   "cell_type": "code",
   "execution_count": 3,
   "id": "0536614b-46b6-45ef-98e1-13c70687ebd7",
   "metadata": {},
   "outputs": [
    {
     "name": "stdout",
     "output_type": "stream",
     "text": [
      "The smallest missing positive integer is: 2\n"
     ]
    }
   ],
   "source": [
    "# Ans:\n",
    "def find_smallest_missing_positive(nums):\n",
    "    n = len(nums)\n",
    "\n",
    "    # Move all positive integers to the left side of the list\n",
    "    j = 0\n",
    "    for i in range(n):\n",
    "        if nums[i] <= 0:\n",
    "            nums[i], nums[j] = nums[j], nums[i]\n",
    "            j += 1\n",
    "\n",
    "    # Consider only the positive integers\n",
    "    nums = nums[j:]\n",
    "\n",
    "    # Mark numbers as visited by changing the sign of the corresponding index\n",
    "    for i in range(len(nums)):\n",
    "        num = abs(nums[i])\n",
    "        if num <= len(nums):\n",
    "            nums[num - 1] = -abs(nums[num - 1])\n",
    "\n",
    "    # Find the first positive number's index\n",
    "    for i in range(len(nums)):\n",
    "        if nums[i] > 0:\n",
    "            return i + 1\n",
    "\n",
    "    # If all numbers are present, return the next positive integer\n",
    "    return len(nums) + 1\n",
    "\n",
    "\n",
    "# Example usage:\n",
    "numbers = [3, 4, -1, 1]\n",
    "result = find_smallest_missing_positive(numbers)\n",
    "print(\"The smallest missing positive integer is:\", result)"
   ]
  },
  {
   "cell_type": "markdown",
   "id": "e5fe6362-f6c7-40f9-b0c9-353ec868c9e6",
   "metadata": {},
   "source": [
    "Q.42 Implement a function to find the longest palindrome substring in a given string."
   ]
  },
  {
   "cell_type": "code",
   "execution_count": 3,
   "id": "000ba4b1-879b-4131-8194-578ce355d4de",
   "metadata": {},
   "outputs": [
    {
     "name": "stdout",
     "output_type": "stream",
     "text": [
      "Longest palindrome substring is: ll\n",
      "Length is: 2\n"
     ]
    }
   ],
   "source": [
    "# Ans:\n",
    "def printSubStr(str, low, high):\n",
    "    for i in range(low, high + 1):\n",
    "        print(str[i], end=\"\")\n",
    " \n",
    " \n",
    "# This function prints the\n",
    "# longest palindrome subString\n",
    "# It also returns the length\n",
    "# of the longest palindrome\n",
    "def longestPalSubstr(str):\n",
    " \n",
    "    # Get length of input String\n",
    "    n = len(str)\n",
    " \n",
    "    # All subStrings of length 1\n",
    "    # are palindromes\n",
    "    maxLength = 1\n",
    "    start = 0\n",
    " \n",
    "    # Nested loop to mark start\n",
    "    # and end index\n",
    "    for i in range(n):\n",
    "        for j in range(i, n):\n",
    "            flag = 1\n",
    " \n",
    "            # Check palindrome\n",
    "            for k in range(0, ((j - i) // 2) + 1):\n",
    "                if (str[i + k] != str[j - k]):\n",
    "                    flag = 0\n",
    " \n",
    "            # Palindrome\n",
    "            if (flag != 0 and (j - i + 1) > maxLength):\n",
    "                start = i\n",
    "                maxLength = j - i + 1\n",
    " \n",
    "    print(\"Longest palindrome substring is: \", end=\"\")\n",
    "    printSubStr(str, start, start + maxLength - 1)\n",
    " \n",
    "    # Return length of LPS\n",
    "    return maxLength\n",
    " \n",
    "if __name__ == '__main__':\n",
    " \n",
    "    str = \"pwskills\"\n",
    "    print(\"\\nLength is:\", longestPalSubstr(str))\n",
    " "
   ]
  },
  {
   "cell_type": "markdown",
   "id": "eead3ce8-6459-40fd-9c8c-288ec11cfdf3",
   "metadata": {},
   "source": [
    "Q.43 Write a program to find the number of occurrences of a given element in a list.\n"
   ]
  },
  {
   "cell_type": "code",
   "execution_count": 6,
   "id": "ac8dcfe8-bcde-4340-ad49-3704bfb6260a",
   "metadata": {},
   "outputs": [
    {
     "name": "stdout",
     "output_type": "stream",
     "text": [
      "The number of occurrences of a given element in a list: 4\n"
     ]
    }
   ],
   "source": [
    "# Ans:\n",
    "def number_of_occurance(list1,element):\n",
    "    count=0\n",
    "    for i in list1:\n",
    "        if i== element:\n",
    "            count+=1\n",
    "    return count\n",
    "\n",
    "list1 = [2, 4, 5, 2, 7, 8, 2, 2]\n",
    "element= 2\n",
    "s=number_of_occurance(list1,element)\n",
    "print(\"The number of occurrences of a given element in a list:\",s)"
   ]
  },
  {
   "cell_type": "markdown",
   "id": "c20b8050-ab25-4f60-8cb4-fff7aef80a97",
   "metadata": {},
   "source": [
    "Q.44 Implement a function to check if a given number is a perfect number."
   ]
  },
  {
   "cell_type": "code",
   "execution_count": 7,
   "id": "11a0e9ea-a030-4731-8230-85fa399391ef",
   "metadata": {},
   "outputs": [
    {
     "name": "stdout",
     "output_type": "stream",
     "text": [
      "28 is a perfect number.\n"
     ]
    }
   ],
   "source": [
    "# Ans:\n",
    "def is_perfect_number(num):\n",
    "    if num <= 0:\n",
    "        return False\n",
    "\n",
    "    divisor_sum = 0\n",
    "    for i in range(1, num):\n",
    "        if num % i == 0:\n",
    "            divisor_sum += i\n",
    "\n",
    "    return divisor_sum == num\n",
    "\n",
    "\n",
    "# Example usage:\n",
    "number = 28\n",
    "result = is_perfect_number(number)\n",
    "if result:\n",
    "    print(f\"{number} is a perfect number.\")\n",
    "else:\n",
    "    print(f\"{number} is not a perfect number.\")"
   ]
  },
  {
   "cell_type": "markdown",
   "id": "ad84c72b-f200-485d-99cf-8bcccc6609d9",
   "metadata": {},
   "source": [
    "Q.45  Write a Python program to remove all duplicates from a string.\n"
   ]
  },
  {
   "cell_type": "code",
   "execution_count": 9,
   "id": "cb56bfe9-34c9-467a-a030-37323d314d66",
   "metadata": {},
   "outputs": [
    {
     "name": "stdout",
     "output_type": "stream",
     "text": [
      "String with duplicates removed: Helo Wrd\n"
     ]
    }
   ],
   "source": [
    "# Ans:\n",
    "def remove_duplicates(string):\n",
    "    # Create an empty set to store unique characters\n",
    "    unique_chars = set()\n",
    "\n",
    "    # Iterate through each character in the string\n",
    "    # and add it to the set if it is not already present\n",
    "    result = \"\"\n",
    "    for char in string:\n",
    "        if char not in unique_chars:\n",
    "            unique_chars.add(char)\n",
    "            result += char\n",
    "\n",
    "    return result\n",
    "\n",
    "\n",
    "# Example usage:\n",
    "input_string = \"Hello World\"\n",
    "result_string = remove_duplicates(input_string)\n",
    "print(\"String with duplicates removed:\", result_string)"
   ]
  },
  {
   "cell_type": "markdown",
   "id": "ef5768bd-d598-4de0-b96f-1891183f64dc",
   "metadata": {},
   "source": [
    "Q.46 Implement a function to find the first missing positive\n"
   ]
  },
  {
   "cell_type": "code",
   "execution_count": 10,
   "id": "db1ed68e-dc38-4d25-83c3-1ac419659182",
   "metadata": {},
   "outputs": [
    {
     "name": "stdout",
     "output_type": "stream",
     "text": [
      "The first missing positive integer is: 2\n"
     ]
    }
   ],
   "source": [
    "# Ans:\n",
    "def find_first_missing_positive(nums):\n",
    "    n = len(nums)\n",
    "\n",
    "    # Move all positive integers to the left side of the list\n",
    "    j = 0\n",
    "    for i in range(n):\n",
    "        if nums[i] <= 0:\n",
    "            nums[i], nums[j] = nums[j], nums[i]\n",
    "            j += 1\n",
    "\n",
    "    # Consider only the positive integers\n",
    "    nums = nums[j:]\n",
    "\n",
    "    # Mark numbers as visited by changing the sign of the corresponding index\n",
    "    for i in range(len(nums)):\n",
    "        num = abs(nums[i])\n",
    "        if num <= len(nums):\n",
    "            nums[num - 1] = -abs(nums[num - 1])\n",
    "\n",
    "    # Find the first positive number's index\n",
    "    for i in range(len(nums)):\n",
    "        if nums[i] > 0:\n",
    "            return i + 1\n",
    "\n",
    "    # If all numbers are present, return the next positive integer\n",
    "    return len(nums) + 1\n",
    "\n",
    "\n",
    "# Example usage:\n",
    "numbers = [3, 4, -1, 1]\n",
    "result = find_first_missing_positive(numbers)\n",
    "print(\"The first missing positive integer is:\", result)"
   ]
  },
  {
   "cell_type": "code",
   "execution_count": null,
   "id": "337d453b-5d54-4b7b-a61c-edb5e71cd4e3",
   "metadata": {},
   "outputs": [],
   "source": []
  }
 ],
 "metadata": {
  "kernelspec": {
   "display_name": "Python 3 (ipykernel)",
   "language": "python",
   "name": "python3"
  },
  "language_info": {
   "codemirror_mode": {
    "name": "ipython",
    "version": 3
   },
   "file_extension": ".py",
   "mimetype": "text/x-python",
   "name": "python",
   "nbconvert_exporter": "python",
   "pygments_lexer": "ipython3",
   "version": "3.10.8"
  }
 },
 "nbformat": 4,
 "nbformat_minor": 5
}
